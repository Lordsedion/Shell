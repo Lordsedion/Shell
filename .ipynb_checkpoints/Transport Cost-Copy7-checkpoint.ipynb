{
 "cells": [
  {
   "cell_type": "markdown",
   "id": "0b24ea58",
   "metadata": {},
   "source": [
    "### Cost = (Sum of distance from the 𝑖tℎ harvesting site to the 𝑗𝑡ℎ depot  X  The amount of biomass gotten and transported from the 𝑖𝑡ℎ harvesting site to the 𝑗𝑡ℎ depot)                                                                  \n",
    "#    + \n",
    "###      (Sum of distance from the 𝑖tℎ harvesting site to the 𝑗𝑡ℎ depot  X  The amount of pellets transported from the 𝑗𝑡ℎ depot to the 𝑘𝑡ℎ biorefinery)"
   ]
  },
  {
   "cell_type": "code",
   "execution_count": 1,
   "id": "e3fbcfc3",
   "metadata": {},
   "outputs": [],
   "source": [
    "import pandas as pd\n",
    "import numpy as np\n",
    "import heapq\n",
    "from collections import Counter\n",
    "import math\n",
    "import random\n",
    "from sklearn.cluster import KMeans\n",
    "import matplotlib.pyplot as plt"
   ]
  },
  {
   "cell_type": "code",
   "execution_count": 2,
   "id": "bb1d2a09",
   "metadata": {},
   "outputs": [],
   "source": [
    "dataset = pd.read_csv('pred.csv')\n",
    "dist = pd.read_csv('dataset/Distance_Matrix.csv')\n",
    "optDist = pd.read_csv('optimized_points.csv')"
   ]
  },
  {
   "cell_type": "code",
   "execution_count": 3,
   "id": "31b604a9",
   "metadata": {},
   "outputs": [],
   "source": [
    "optDist.fillna(0, inplace=True)"
   ]
  },
  {
   "cell_type": "code",
   "execution_count": 4,
   "id": "e0ef6798",
   "metadata": {},
   "outputs": [
    {
     "data": {
      "text/html": [
       "<div>\n",
       "<style scoped>\n",
       "    .dataframe tbody tr th:only-of-type {\n",
       "        vertical-align: middle;\n",
       "    }\n",
       "\n",
       "    .dataframe tbody tr th {\n",
       "        vertical-align: top;\n",
       "    }\n",
       "\n",
       "    .dataframe thead th {\n",
       "        text-align: right;\n",
       "    }\n",
       "</style>\n",
       "<table border=\"1\" class=\"dataframe\">\n",
       "  <thead>\n",
       "    <tr style=\"text-align: right;\">\n",
       "      <th></th>\n",
       "      <th>Predictions</th>\n",
       "    </tr>\n",
       "  </thead>\n",
       "  <tbody>\n",
       "    <tr>\n",
       "      <th>0</th>\n",
       "      <td>9.579263</td>\n",
       "    </tr>\n",
       "    <tr>\n",
       "      <th>1</th>\n",
       "      <td>33.575882</td>\n",
       "    </tr>\n",
       "    <tr>\n",
       "      <th>2</th>\n",
       "      <td>71.998426</td>\n",
       "    </tr>\n",
       "    <tr>\n",
       "      <th>3</th>\n",
       "      <td>94.521988</td>\n",
       "    </tr>\n",
       "    <tr>\n",
       "      <th>4</th>\n",
       "      <td>21.116828</td>\n",
       "    </tr>\n",
       "  </tbody>\n",
       "</table>\n",
       "</div>"
      ],
      "text/plain": [
       "   Predictions\n",
       "0     9.579263\n",
       "1    33.575882\n",
       "2    71.998426\n",
       "3    94.521988\n",
       "4    21.116828"
      ]
     },
     "execution_count": 4,
     "metadata": {},
     "output_type": "execute_result"
    }
   ],
   "source": [
    "dataset.head()"
   ]
  },
  {
   "cell_type": "code",
   "execution_count": 5,
   "id": "0c9aabde",
   "metadata": {},
   "outputs": [
    {
     "data": {
      "text/html": [
       "<div>\n",
       "<style scoped>\n",
       "    .dataframe tbody tr th:only-of-type {\n",
       "        vertical-align: middle;\n",
       "    }\n",
       "\n",
       "    .dataframe tbody tr th {\n",
       "        vertical-align: top;\n",
       "    }\n",
       "\n",
       "    .dataframe thead th {\n",
       "        text-align: right;\n",
       "    }\n",
       "</style>\n",
       "<table border=\"1\" class=\"dataframe\">\n",
       "  <thead>\n",
       "    <tr style=\"text-align: right;\">\n",
       "      <th></th>\n",
       "      <th>0</th>\n",
       "      <th>1</th>\n",
       "      <th>2</th>\n",
       "      <th>3</th>\n",
       "      <th>4</th>\n",
       "      <th>5</th>\n",
       "      <th>6</th>\n",
       "      <th>7</th>\n",
       "      <th>8</th>\n",
       "      <th>9</th>\n",
       "      <th>...</th>\n",
       "      <th>2408</th>\n",
       "      <th>2409</th>\n",
       "      <th>2410</th>\n",
       "      <th>2411</th>\n",
       "      <th>2412</th>\n",
       "      <th>2413</th>\n",
       "      <th>2414</th>\n",
       "      <th>2415</th>\n",
       "      <th>2416</th>\n",
       "      <th>2417</th>\n",
       "    </tr>\n",
       "  </thead>\n",
       "  <tbody>\n",
       "    <tr>\n",
       "      <th>0</th>\n",
       "      <td>0.0000</td>\n",
       "      <td>11.3769</td>\n",
       "      <td>20.4557</td>\n",
       "      <td>38.1227</td>\n",
       "      <td>45.3810</td>\n",
       "      <td>54.9915</td>\n",
       "      <td>78.6108</td>\n",
       "      <td>118.6750</td>\n",
       "      <td>102.6639</td>\n",
       "      <td>113.4309</td>\n",
       "      <td>...</td>\n",
       "      <td>683.8771</td>\n",
       "      <td>687.6310</td>\n",
       "      <td>697.3246</td>\n",
       "      <td>669.3962</td>\n",
       "      <td>667.6788</td>\n",
       "      <td>665.5775</td>\n",
       "      <td>662.0291</td>\n",
       "      <td>665.9655</td>\n",
       "      <td>673.2073</td>\n",
       "      <td>681.4235</td>\n",
       "    </tr>\n",
       "    <tr>\n",
       "      <th>1</th>\n",
       "      <td>11.3769</td>\n",
       "      <td>0.0000</td>\n",
       "      <td>9.0788</td>\n",
       "      <td>28.9141</td>\n",
       "      <td>36.1724</td>\n",
       "      <td>45.7829</td>\n",
       "      <td>69.4022</td>\n",
       "      <td>78.2329</td>\n",
       "      <td>93.4553</td>\n",
       "      <td>111.1832</td>\n",
       "      <td>...</td>\n",
       "      <td>681.6295</td>\n",
       "      <td>685.3833</td>\n",
       "      <td>695.0769</td>\n",
       "      <td>667.1485</td>\n",
       "      <td>665.4311</td>\n",
       "      <td>663.3298</td>\n",
       "      <td>659.7815</td>\n",
       "      <td>663.7178</td>\n",
       "      <td>670.9596</td>\n",
       "      <td>679.1758</td>\n",
       "    </tr>\n",
       "    <tr>\n",
       "      <th>2</th>\n",
       "      <td>20.4557</td>\n",
       "      <td>9.0788</td>\n",
       "      <td>0.0000</td>\n",
       "      <td>22.3791</td>\n",
       "      <td>29.6374</td>\n",
       "      <td>39.2478</td>\n",
       "      <td>62.8671</td>\n",
       "      <td>71.6979</td>\n",
       "      <td>86.9203</td>\n",
       "      <td>111.7859</td>\n",
       "      <td>...</td>\n",
       "      <td>682.2323</td>\n",
       "      <td>685.9861</td>\n",
       "      <td>695.6796</td>\n",
       "      <td>667.7513</td>\n",
       "      <td>666.0339</td>\n",
       "      <td>663.9326</td>\n",
       "      <td>660.3843</td>\n",
       "      <td>664.3206</td>\n",
       "      <td>671.5623</td>\n",
       "      <td>679.7786</td>\n",
       "    </tr>\n",
       "    <tr>\n",
       "      <th>3</th>\n",
       "      <td>38.1227</td>\n",
       "      <td>28.9141</td>\n",
       "      <td>22.3791</td>\n",
       "      <td>0.0000</td>\n",
       "      <td>11.8343</td>\n",
       "      <td>23.5413</td>\n",
       "      <td>41.8396</td>\n",
       "      <td>50.6703</td>\n",
       "      <td>65.8927</td>\n",
       "      <td>82.5852</td>\n",
       "      <td>...</td>\n",
       "      <td>681.4226</td>\n",
       "      <td>685.1765</td>\n",
       "      <td>694.8701</td>\n",
       "      <td>666.9417</td>\n",
       "      <td>665.2243</td>\n",
       "      <td>663.1230</td>\n",
       "      <td>659.5746</td>\n",
       "      <td>663.5110</td>\n",
       "      <td>670.7528</td>\n",
       "      <td>678.9690</td>\n",
       "    </tr>\n",
       "    <tr>\n",
       "      <th>4</th>\n",
       "      <td>45.3810</td>\n",
       "      <td>36.1724</td>\n",
       "      <td>29.6374</td>\n",
       "      <td>11.8343</td>\n",
       "      <td>0.0000</td>\n",
       "      <td>11.7070</td>\n",
       "      <td>24.3986</td>\n",
       "      <td>33.2293</td>\n",
       "      <td>53.9901</td>\n",
       "      <td>65.1442</td>\n",
       "      <td>...</td>\n",
       "      <td>663.9816</td>\n",
       "      <td>667.7355</td>\n",
       "      <td>677.4291</td>\n",
       "      <td>649.5007</td>\n",
       "      <td>647.7833</td>\n",
       "      <td>645.6820</td>\n",
       "      <td>642.1336</td>\n",
       "      <td>646.0700</td>\n",
       "      <td>653.3118</td>\n",
       "      <td>661.5280</td>\n",
       "    </tr>\n",
       "  </tbody>\n",
       "</table>\n",
       "<p>5 rows × 2418 columns</p>\n",
       "</div>"
      ],
      "text/plain": [
       "         0        1        2        3        4        5        6         7  \\\n",
       "0   0.0000  11.3769  20.4557  38.1227  45.3810  54.9915  78.6108  118.6750   \n",
       "1  11.3769   0.0000   9.0788  28.9141  36.1724  45.7829  69.4022   78.2329   \n",
       "2  20.4557   9.0788   0.0000  22.3791  29.6374  39.2478  62.8671   71.6979   \n",
       "3  38.1227  28.9141  22.3791   0.0000  11.8343  23.5413  41.8396   50.6703   \n",
       "4  45.3810  36.1724  29.6374  11.8343   0.0000  11.7070  24.3986   33.2293   \n",
       "\n",
       "          8         9  ...      2408      2409      2410      2411      2412  \\\n",
       "0  102.6639  113.4309  ...  683.8771  687.6310  697.3246  669.3962  667.6788   \n",
       "1   93.4553  111.1832  ...  681.6295  685.3833  695.0769  667.1485  665.4311   \n",
       "2   86.9203  111.7859  ...  682.2323  685.9861  695.6796  667.7513  666.0339   \n",
       "3   65.8927   82.5852  ...  681.4226  685.1765  694.8701  666.9417  665.2243   \n",
       "4   53.9901   65.1442  ...  663.9816  667.7355  677.4291  649.5007  647.7833   \n",
       "\n",
       "       2413      2414      2415      2416      2417  \n",
       "0  665.5775  662.0291  665.9655  673.2073  681.4235  \n",
       "1  663.3298  659.7815  663.7178  670.9596  679.1758  \n",
       "2  663.9326  660.3843  664.3206  671.5623  679.7786  \n",
       "3  663.1230  659.5746  663.5110  670.7528  678.9690  \n",
       "4  645.6820  642.1336  646.0700  653.3118  661.5280  \n",
       "\n",
       "[5 rows x 2418 columns]"
      ]
     },
     "execution_count": 5,
     "metadata": {},
     "output_type": "execute_result"
    }
   ],
   "source": [
    "dist = dist.drop(columns='Unnamed: 0')\n",
    "dist.head()"
   ]
  },
  {
   "cell_type": "code",
   "execution_count": 6,
   "id": "fa5ee2ef",
   "metadata": {},
   "outputs": [],
   "source": [
    "distance_matrix = dist.values"
   ]
  },
  {
   "cell_type": "code",
   "execution_count": 7,
   "id": "25590c76",
   "metadata": {},
   "outputs": [
    {
     "data": {
      "text/html": [
       "<div>\n",
       "<style scoped>\n",
       "    .dataframe tbody tr th:only-of-type {\n",
       "        vertical-align: middle;\n",
       "    }\n",
       "\n",
       "    .dataframe tbody tr th {\n",
       "        vertical-align: top;\n",
       "    }\n",
       "\n",
       "    .dataframe thead th {\n",
       "        text-align: right;\n",
       "    }\n",
       "</style>\n",
       "<table border=\"1\" class=\"dataframe\">\n",
       "  <thead>\n",
       "    <tr style=\"text-align: right;\">\n",
       "      <th></th>\n",
       "      <th>0</th>\n",
       "      <th>1</th>\n",
       "      <th>2</th>\n",
       "      <th>3</th>\n",
       "      <th>4</th>\n",
       "      <th>5</th>\n",
       "      <th>6</th>\n",
       "      <th>7</th>\n",
       "      <th>8</th>\n",
       "      <th>9</th>\n",
       "      <th>...</th>\n",
       "      <th>2408</th>\n",
       "      <th>2409</th>\n",
       "      <th>2410</th>\n",
       "      <th>2411</th>\n",
       "      <th>2412</th>\n",
       "      <th>2413</th>\n",
       "      <th>2414</th>\n",
       "      <th>2415</th>\n",
       "      <th>2416</th>\n",
       "      <th>2417</th>\n",
       "    </tr>\n",
       "  </thead>\n",
       "  <tbody>\n",
       "    <tr>\n",
       "      <th>0</th>\n",
       "      <td>0.0000</td>\n",
       "      <td>11.3769</td>\n",
       "      <td>20.4557</td>\n",
       "      <td>38.1227</td>\n",
       "      <td>45.3810</td>\n",
       "      <td>54.9915</td>\n",
       "      <td>78.6108</td>\n",
       "      <td>118.6750</td>\n",
       "      <td>102.6639</td>\n",
       "      <td>113.4309</td>\n",
       "      <td>...</td>\n",
       "      <td>683.8771</td>\n",
       "      <td>687.6310</td>\n",
       "      <td>697.3246</td>\n",
       "      <td>669.3962</td>\n",
       "      <td>667.6788</td>\n",
       "      <td>665.5775</td>\n",
       "      <td>662.0291</td>\n",
       "      <td>665.9655</td>\n",
       "      <td>673.2073</td>\n",
       "      <td>681.4235</td>\n",
       "    </tr>\n",
       "    <tr>\n",
       "      <th>1</th>\n",
       "      <td>11.3769</td>\n",
       "      <td>0.0000</td>\n",
       "      <td>9.0788</td>\n",
       "      <td>28.9141</td>\n",
       "      <td>36.1724</td>\n",
       "      <td>45.7829</td>\n",
       "      <td>69.4022</td>\n",
       "      <td>78.2329</td>\n",
       "      <td>93.4553</td>\n",
       "      <td>111.1832</td>\n",
       "      <td>...</td>\n",
       "      <td>681.6295</td>\n",
       "      <td>685.3833</td>\n",
       "      <td>695.0769</td>\n",
       "      <td>667.1485</td>\n",
       "      <td>665.4311</td>\n",
       "      <td>663.3298</td>\n",
       "      <td>659.7815</td>\n",
       "      <td>663.7178</td>\n",
       "      <td>670.9596</td>\n",
       "      <td>679.1758</td>\n",
       "    </tr>\n",
       "    <tr>\n",
       "      <th>2</th>\n",
       "      <td>20.4557</td>\n",
       "      <td>9.0788</td>\n",
       "      <td>0.0000</td>\n",
       "      <td>22.3791</td>\n",
       "      <td>29.6374</td>\n",
       "      <td>39.2478</td>\n",
       "      <td>62.8671</td>\n",
       "      <td>71.6979</td>\n",
       "      <td>86.9203</td>\n",
       "      <td>111.7859</td>\n",
       "      <td>...</td>\n",
       "      <td>682.2323</td>\n",
       "      <td>685.9861</td>\n",
       "      <td>695.6796</td>\n",
       "      <td>667.7513</td>\n",
       "      <td>666.0339</td>\n",
       "      <td>663.9326</td>\n",
       "      <td>660.3843</td>\n",
       "      <td>664.3206</td>\n",
       "      <td>671.5623</td>\n",
       "      <td>679.7786</td>\n",
       "    </tr>\n",
       "    <tr>\n",
       "      <th>3</th>\n",
       "      <td>38.1227</td>\n",
       "      <td>28.9141</td>\n",
       "      <td>22.3791</td>\n",
       "      <td>0.0000</td>\n",
       "      <td>11.8343</td>\n",
       "      <td>23.5413</td>\n",
       "      <td>41.8396</td>\n",
       "      <td>50.6703</td>\n",
       "      <td>65.8927</td>\n",
       "      <td>82.5852</td>\n",
       "      <td>...</td>\n",
       "      <td>681.4226</td>\n",
       "      <td>685.1765</td>\n",
       "      <td>694.8701</td>\n",
       "      <td>666.9417</td>\n",
       "      <td>665.2243</td>\n",
       "      <td>663.1230</td>\n",
       "      <td>659.5746</td>\n",
       "      <td>663.5110</td>\n",
       "      <td>670.7528</td>\n",
       "      <td>678.9690</td>\n",
       "    </tr>\n",
       "    <tr>\n",
       "      <th>4</th>\n",
       "      <td>45.3810</td>\n",
       "      <td>36.1724</td>\n",
       "      <td>29.6374</td>\n",
       "      <td>11.8343</td>\n",
       "      <td>0.0000</td>\n",
       "      <td>11.7070</td>\n",
       "      <td>24.3986</td>\n",
       "      <td>33.2293</td>\n",
       "      <td>53.9901</td>\n",
       "      <td>65.1442</td>\n",
       "      <td>...</td>\n",
       "      <td>663.9816</td>\n",
       "      <td>667.7355</td>\n",
       "      <td>677.4291</td>\n",
       "      <td>649.5007</td>\n",
       "      <td>647.7833</td>\n",
       "      <td>645.6820</td>\n",
       "      <td>642.1336</td>\n",
       "      <td>646.0700</td>\n",
       "      <td>653.3118</td>\n",
       "      <td>661.5280</td>\n",
       "    </tr>\n",
       "  </tbody>\n",
       "</table>\n",
       "<p>5 rows × 2418 columns</p>\n",
       "</div>"
      ],
      "text/plain": [
       "         0        1        2        3        4        5        6         7  \\\n",
       "0   0.0000  11.3769  20.4557  38.1227  45.3810  54.9915  78.6108  118.6750   \n",
       "1  11.3769   0.0000   9.0788  28.9141  36.1724  45.7829  69.4022   78.2329   \n",
       "2  20.4557   9.0788   0.0000  22.3791  29.6374  39.2478  62.8671   71.6979   \n",
       "3  38.1227  28.9141  22.3791   0.0000  11.8343  23.5413  41.8396   50.6703   \n",
       "4  45.3810  36.1724  29.6374  11.8343   0.0000  11.7070  24.3986   33.2293   \n",
       "\n",
       "          8         9  ...      2408      2409      2410      2411      2412  \\\n",
       "0  102.6639  113.4309  ...  683.8771  687.6310  697.3246  669.3962  667.6788   \n",
       "1   93.4553  111.1832  ...  681.6295  685.3833  695.0769  667.1485  665.4311   \n",
       "2   86.9203  111.7859  ...  682.2323  685.9861  695.6796  667.7513  666.0339   \n",
       "3   65.8927   82.5852  ...  681.4226  685.1765  694.8701  666.9417  665.2243   \n",
       "4   53.9901   65.1442  ...  663.9816  667.7355  677.4291  649.5007  647.7833   \n",
       "\n",
       "       2413      2414      2415      2416      2417  \n",
       "0  665.5775  662.0291  665.9655  673.2073  681.4235  \n",
       "1  663.3298  659.7815  663.7178  670.9596  679.1758  \n",
       "2  663.9326  660.3843  664.3206  671.5623  679.7786  \n",
       "3  663.1230  659.5746  663.5110  670.7528  678.9690  \n",
       "4  645.6820  642.1336  646.0700  653.3118  661.5280  \n",
       "\n",
       "[5 rows x 2418 columns]"
      ]
     },
     "execution_count": 7,
     "metadata": {},
     "output_type": "execute_result"
    }
   ],
   "source": [
    "dist.head()"
   ]
  },
  {
   "cell_type": "code",
   "execution_count": 8,
   "id": "7c72292e",
   "metadata": {},
   "outputs": [],
   "source": [
    "arr = [i[0] for i in dataset.values]"
   ]
  },
  {
   "cell_type": "code",
   "execution_count": 9,
   "id": "6d8ed90a",
   "metadata": {},
   "outputs": [],
   "source": [
    "totalArray = []\n",
    "totArray = []\n",
    "similarity_array = []\n",
    "arr = [i[0] for i in dataset.values]\n",
    "\n",
    "for index in range(2418):\n",
    "    total,ind = 0,0\n",
    "    distArr = [dist.values[index][i] for i in range(len(dist.values[index]))]\n",
    "    distArr1 = [dist.values[index][i] for i in range(len(dist.values[index]))]\n",
    "    \n",
    "    distDict = {distArr[i]:i for i in range(len(distArr))}\n",
    "    distArr.sort()\n",
    "    \n",
    "    d_arr = []\n",
    "    tot = 0\n",
    "    while total < 20000:\n",
    "        d_arr.append(distDict[distArr[ind]])\n",
    "        total += arr[distDict[distArr[ind]]]\n",
    "        tot += distArr[ind]\n",
    "        ind +=1\n",
    "    similarity_array.append(d_arr)\n",
    "    totalArray.append(total)\n",
    "    totArray.append(tot)"
   ]
  },
  {
   "cell_type": "code",
   "execution_count": 10,
   "id": "24766ddb",
   "metadata": {},
   "outputs": [
    {
     "name": "stdout",
     "output_type": "stream",
     "text": [
      "179\n"
     ]
    }
   ],
   "source": [
    "print(len(similarity_array[0]))"
   ]
  },
  {
   "cell_type": "code",
   "execution_count": 11,
   "id": "661a7425",
   "metadata": {},
   "outputs": [],
   "source": [
    "def similar_array(arr1, arr2):\n",
    "    count = 0\n",
    "    for i in arr1:\n",
    "        if i in arr2:\n",
    "            count += 1\n",
    "    if count > 0:\n",
    "        return [count/len(arr1), count/len(arr2)]\n",
    "    return -1"
   ]
  },
  {
   "cell_type": "raw",
   "id": "8495aba2",
   "metadata": {},
   "source": [
    "optimize = []\n",
    "for i in range(len(similarity_array)):\n",
    "    \n",
    "    optimize.append([])\n",
    "    for index in range(len(similarity_array)):\n",
    "        optimize[i].append(similar_array(similarity_array[i], similarity_array[index]))\n",
    "    \n",
    "    if i%5 == 0:\n",
    "        print(f\"Processing ... {(i/len(similarity_array))*100}\")"
   ]
  },
  {
   "cell_type": "raw",
   "id": "a2998beb",
   "metadata": {},
   "source": [
    "df = pd.DataFrame(optimize)\n",
    "df.to_csv('optimized_points.csv', index=False)\n",
    "df.head()"
   ]
  },
  {
   "cell_type": "code",
   "execution_count": 12,
   "id": "5d180e93",
   "metadata": {},
   "outputs": [],
   "source": [
    "op1 = [list(i) for i in optDist.values]"
   ]
  },
  {
   "cell_type": "code",
   "execution_count": 13,
   "id": "a7bf81fb",
   "metadata": {},
   "outputs": [],
   "source": [
    "def check_sum(array):\n",
    "    summ = 0\n",
    "    for i in array:\n",
    "        summ += arr[i]\n",
    "    return summ"
   ]
  },
  {
   "cell_type": "code",
   "execution_count": 149,
   "id": "3c38e3f6",
   "metadata": {
    "scrolled": true
   },
   "outputs": [
    {
     "name": "stdout",
     "output_type": "stream",
     "text": [
      "Counter: 5847112 iterations.... No:0\n",
      "12.100961657909975% booty collected\n",
      "1 god found 437 Summation 19863.369928818614\n",
      "23.463689981497758% booty collected\n",
      "2 god found 985 Summation 19974.605995271333\n",
      "13.669497839536445% booty collected\n",
      "3 god found 1039 Summation 5882.544762527401\n",
      "14.776915123442985% booty collected\n",
      "4 god found 1091 Summation 3703.990843842399\n",
      "16.210301019729965% booty collected\n",
      "5 god found 1094 Summation 4794.261668745898\n",
      "18.02625760999847% booty collected\n",
      "6 god found 1120 Summation 6073.850102322839\n",
      "19.073551356825693% booty collected\n",
      "7 god found 1203 Summation 3502.8949840634987\n",
      "20.839020389860796% booty collected\n",
      "8 god found 1231 Summation 5904.98381096352\n",
      "21.928137636489147% booty collected\n",
      "9 god found 1356 Summation 3642.782506655128\n",
      "43.81197987176397% booty collected\n",
      "10 god found 1358 Summation 19808.648314972907\n",
      "29.516943450412768% booty collected\n",
      "11 god found 1484 Summation 5573.714466393399\n",
      "30.773001224230452% booty collected\n",
      "12 god found 1545 Summation 4201.150335261001\n",
      "31.838616476098725% booty collected\n",
      "13 god found 1605 Summation 3564.1751247147718\n",
      "47.79201869795479% booty collected\n",
      "14 god found 1811 Summation 19801.722637200066\n",
      "39.644019608976485% booty collected\n",
      "15 god found 1861 Summation 6305.095593675559\n",
      "45.82050259012209% booty collected\n",
      "16 god found 385 Summation 19993.950009634365\n",
      "Counter: 11697968 iterations.... No:16\n",
      "45.621800534391326% booty collected\n",
      "16 god found 437 Summation 19863.369928818614\n",
      "57.15492098368766% booty collected\n",
      "17 god found 984 Summation 19887.27687245911\n",
      "51.567688379931866% booty collected\n",
      "17 god found 985 Summation 19974.605995271333\n",
      "51.567688379931866% booty collected\n",
      "17 god found 1039 Summation 5882.544762527401\n",
      "51.567688379931866% booty collected\n",
      "17 god found 1091 Summation 3703.990843842399\n",
      "51.567688379931866% booty collected\n",
      "17 god found 1094 Summation 4794.261668745898\n",
      "51.567688379931866% booty collected\n",
      "17 god found 1120 Summation 6073.850102322839\n",
      "51.567688379931866% booty collected\n",
      "17 god found 1203 Summation 3502.8949840634987\n",
      "51.567688379931866% booty collected\n",
      "17 god found 1231 Summation 5904.98381096352\n",
      "51.567688379931866% booty collected\n",
      "17 god found 1356 Summation 3642.782506655128\n",
      "51.567688379931866% booty collected\n",
      "17 god found 1358 Summation 19808.648314972907\n",
      "68.00280615045641% booty collected\n",
      "18 god found 1359 Summation 19855.53608985597\n",
      "57.50408638255936% booty collected\n",
      "18 god found 1484 Summation 5573.714466393399\n",
      "57.50408638255936% booty collected\n",
      "18 god found 1545 Summation 4201.150335261001\n",
      "57.50408638255936% booty collected\n",
      "18 god found 1605 Summation 3564.1751247147718\n",
      "67.47079858659625% booty collected\n",
      "19 god found 1757 Summation 19867.875209410915\n",
      "63.44417352882663% booty collected\n",
      "19 god found 1811 Summation 19801.722637200066\n",
      "63.44417352882663% booty collected\n",
      "19 god found 1861 Summation 6305.095593675559\n",
      "63.44417352882663% booty collected\n",
      "19 god found 385 Summation 19993.950009634365\n",
      "Counter: 17549124 iterations.... No:19\n",
      "63.44417352882663% booty collected\n",
      "19 god found 437 Summation 19863.369928818614\n",
      "63.44417352882663% booty collected\n",
      "19 god found 984 Summation 19887.27687245911\n",
      "63.44417352882663% booty collected\n",
      "19 god found 985 Summation 19974.605995271333\n",
      "68.92357285237182% booty collected\n",
      "20 god found 1038 Summation 18327.00755091383\n",
      "68.92357285237182% booty collected\n",
      "20 god found 1039 Summation 5882.544762527401\n",
      "68.92357285237182% booty collected\n",
      "20 god found 1091 Summation 3703.990843842399\n",
      "68.92357285237182% booty collected\n",
      "20 god found 1094 Summation 4794.261668745898\n",
      "68.92357285237182% booty collected\n",
      "20 god found 1120 Summation 6073.850102322839\n",
      "68.92357285237182% booty collected\n",
      "20 god found 1203 Summation 3502.8949840634987\n",
      "68.92357285237182% booty collected\n",
      "20 god found 1231 Summation 5904.98381096352\n",
      "68.92357285237182% booty collected\n",
      "20 god found 1356 Summation 3642.782506655128\n",
      "68.92357285237182% booty collected\n",
      "20 god found 1358 Summation 19808.648314972907\n",
      "68.92357285237182% booty collected\n",
      "20 god found 1359 Summation 19855.53608985597\n",
      "80.16920697515503% booty collected\n",
      "21 god found 1424 Summation 19990.22468123671\n",
      "74.90023998101186% booty collected\n",
      "21 god found 1484 Summation 5573.714466393399\n",
      "74.90023998101186% booty collected\n",
      "21 god found 1545 Summation 4201.150335261001\n",
      "74.90023998101186% booty collected\n",
      "21 god found 1605 Summation 3564.1751247147718\n",
      "74.90023998101186% booty collected\n",
      "21 god found 1757 Summation 19867.875209410915\n",
      "79.6728924407293% booty collected\n",
      "22 god found 1810 Summation 15963.14349481224\n",
      "79.6728924407293% booty collected\n",
      "22 god found 1811 Summation 19801.722637200066\n",
      "79.6728924407293% booty collected\n",
      "22 god found 1861 Summation 6305.095593675559\n",
      "79.6728924407293% booty collected\n",
      "22 god found 385 Summation 19993.950009634365\n",
      "Counter: 23400561 iterations.... No:22\n",
      "79.6728924407293% booty collected\n",
      "22 god found 437 Summation 19863.369928818614\n",
      "79.6728924407293% booty collected\n",
      "22 god found 984 Summation 19887.27687245911\n",
      "79.6728924407293% booty collected\n",
      "22 god found 985 Summation 19974.605995271333\n",
      "79.6728924407293% booty collected\n",
      "22 god found 1038 Summation 18327.00755091383\n",
      "79.6728924407293% booty collected\n",
      "22 god found 1039 Summation 5882.544762527401\n",
      "79.6728924407293% booty collected\n",
      "22 god found 1091 Summation 3703.990843842399\n",
      "79.6728924407293% booty collected\n",
      "22 god found 1094 Summation 4794.261668745898\n",
      "79.6728924407293% booty collected\n",
      "22 god found 1120 Summation 6073.850102322839\n",
      "79.6728924407293% booty collected\n",
      "22 god found 1203 Summation 3502.8949840634987\n",
      "79.6728924407293% booty collected\n",
      "22 god found 1231 Summation 5904.98381096352\n",
      "79.6728924407293% booty collected\n",
      "22 god found 1356 Summation 3642.782506655128\n",
      "79.6728924407293% booty collected\n",
      "22 god found 1358 Summation 19808.648314972907\n",
      "79.6728924407293% booty collected\n",
      "22 god found 1359 Summation 19855.53608985597\n",
      "79.6728924407293% booty collected\n",
      "22 god found 1424 Summation 19990.22468123671\n",
      "85.31067877440172% booty collected\n",
      "23 god found 1425 Summation 18856.766336351382\n",
      "85.31067877440172% booty collected\n",
      "23 god found 1484 Summation 5573.714466393399\n",
      "85.31067877440172% booty collected\n",
      "23 god found 1545 Summation 4201.150335261001\n",
      "85.31067877440172% booty collected\n",
      "23 god found 1605 Summation 3564.1751247147718\n",
      "85.31067877440172% booty collected\n",
      "23 god found 1757 Summation 19867.875209410915\n",
      "85.31067877440172% booty collected\n",
      "23 god found 1810 Summation 15963.14349481224\n",
      "85.31067877440172% booty collected\n",
      "23 god found 1811 Summation 19801.722637200066\n",
      "85.31067877440172% booty collected\n",
      "23 god found 1861 Summation 6305.095593675559\n",
      "85.31067877440172% booty collected\n",
      "23 god found 385 Summation 19993.950009634365\n",
      "Counter: 29252123 iterations.... No:23\n",
      "85.31067877440172% booty collected\n",
      "23 god found 437 Summation 19863.369928818614\n",
      "85.31067877440172% booty collected\n",
      "23 god found 984 Summation 19887.27687245911\n",
      "85.31067877440172% booty collected\n",
      "23 god found 985 Summation 19974.605995271333\n",
      "85.31067877440172% booty collected\n",
      "23 god found 1038 Summation 18327.00755091383\n",
      "85.31067877440172% booty collected\n",
      "23 god found 1039 Summation 5882.544762527401\n",
      "85.31067877440172% booty collected\n",
      "23 god found 1091 Summation 3703.990843842399\n",
      "85.31067877440172% booty collected\n",
      "23 god found 1094 Summation 4794.261668745898\n",
      "85.31067877440172% booty collected\n",
      "23 god found 1120 Summation 6073.850102322839\n",
      "85.31067877440172% booty collected\n",
      "23 god found 1203 Summation 3502.8949840634987\n",
      "85.31067877440172% booty collected\n",
      "23 god found 1231 Summation 5904.98381096352\n",
      "85.31067877440172% booty collected\n",
      "23 god found 1356 Summation 3642.782506655128\n",
      "85.31067877440172% booty collected\n",
      "23 god found 1358 Summation 19808.648314972907\n",
      "85.31067877440172% booty collected\n",
      "23 god found 1359 Summation 19855.53608985597\n",
      "85.31067877440172% booty collected\n",
      "23 god found 1424 Summation 19990.22468123671\n",
      "85.31067877440172% booty collected\n",
      "23 god found 1425 Summation 18856.766336351382\n",
      "85.31067877440172% booty collected\n",
      "23 god found 1484 Summation 5573.714466393399\n",
      "85.31067877440172% booty collected\n",
      "23 god found 1545 Summation 4201.150335261001\n",
      "85.31067877440172% booty collected\n",
      "23 god found 1605 Summation 3564.1751247147718\n",
      "85.31067877440172% booty collected\n",
      "23 god found 1757 Summation 19867.875209410915\n",
      "85.31067877440172% booty collected\n",
      "23 god found 1810 Summation 15963.14349481224\n",
      "85.31067877440172% booty collected\n",
      "23 god found 1811 Summation 19801.722637200066\n",
      "85.31067877440172% booty collected\n",
      "23 god found 1861 Summation 6305.095593675559\n"
     ]
    },
    {
     "name": "stdout",
     "output_type": "stream",
     "text": [
      "85.31067877440172% booty collected\n",
      "23 god found 385 Summation 19993.950009634365\n",
      "Counter: 35103692 iterations.... No:23\n",
      "85.31067877440172% booty collected\n",
      "23 god found 437 Summation 19863.369928818614\n",
      "86.46649638173027% booty collected\n",
      "24 god found 983 Summation 3865.875941176\n",
      "86.46649638173027% booty collected\n",
      "24 god found 984 Summation 19887.27687245911\n",
      "86.46649638173027% booty collected\n",
      "24 god found 985 Summation 19974.605995271333\n",
      "86.46649638173027% booty collected\n",
      "24 god found 1038 Summation 18327.00755091383\n",
      "86.46649638173027% booty collected\n",
      "24 god found 1039 Summation 5882.544762527401\n",
      "86.46649638173027% booty collected\n",
      "24 god found 1091 Summation 3703.990843842399\n",
      "86.46649638173027% booty collected\n",
      "24 god found 1094 Summation 4794.261668745898\n",
      "86.46649638173027% booty collected\n",
      "24 god found 1120 Summation 6073.850102322839\n",
      "86.46649638173027% booty collected\n",
      "24 god found 1203 Summation 3502.8949840634987\n",
      "86.46649638173027% booty collected\n",
      "24 god found 1231 Summation 5904.98381096352\n",
      "86.46649638173027% booty collected\n",
      "24 god found 1356 Summation 3642.782506655128\n",
      "86.46649638173027% booty collected\n",
      "24 god found 1358 Summation 19808.648314972907\n",
      "86.46649638173027% booty collected\n",
      "24 god found 1359 Summation 19855.53608985597\n",
      "86.46649638173027% booty collected\n",
      "24 god found 1424 Summation 19990.22468123671\n",
      "86.46649638173027% booty collected\n",
      "24 god found 1425 Summation 18856.766336351382\n",
      "86.46649638173027% booty collected\n",
      "24 god found 1484 Summation 5573.714466393399\n",
      "86.46649638173027% booty collected\n",
      "24 god found 1545 Summation 4201.150335261001\n",
      "86.46649638173027% booty collected\n",
      "24 god found 1605 Summation 3564.1751247147718\n",
      "86.46649638173027% booty collected\n",
      "24 god found 1757 Summation 19867.875209410915\n",
      "86.46649638173027% booty collected\n",
      "24 god found 1810 Summation 15963.14349481224\n",
      "86.46649638173027% booty collected\n",
      "24 god found 1811 Summation 19801.722637200066\n",
      "86.46649638173027% booty collected\n",
      "24 god found 1861 Summation 6305.095593675559\n",
      "86.46649638173027% booty collected\n",
      "24 god found 385 Summation 19993.950009634365\n",
      "Counter: 40955268 iterations.... No:24\n",
      "86.46649638173027% booty collected\n",
      "24 god found 437 Summation 19863.369928818614\n",
      "86.46649638173027% booty collected\n",
      "24 god found 983 Summation 3865.875941176\n",
      "86.46649638173027% booty collected\n",
      "24 god found 984 Summation 19887.27687245911\n",
      "86.46649638173027% booty collected\n",
      "24 god found 985 Summation 19974.605995271333\n",
      "86.46649638173027% booty collected\n",
      "24 god found 1038 Summation 18327.00755091383\n",
      "86.46649638173027% booty collected\n",
      "24 god found 1039 Summation 5882.544762527401\n",
      "87.84794934513927% booty collected\n",
      "25 god found 1040 Summation 4620.561013474099\n",
      "87.84794934513927% booty collected\n",
      "25 god found 1091 Summation 3703.990843842399\n",
      "87.84794934513927% booty collected\n",
      "25 god found 1094 Summation 4794.261668745898\n",
      "87.84794934513927% booty collected\n",
      "25 god found 1120 Summation 6073.850102322839\n",
      "87.84794934513927% booty collected\n",
      "25 god found 1203 Summation 3502.8949840634987\n",
      "87.84794934513927% booty collected\n",
      "25 god found 1231 Summation 5904.98381096352\n",
      "87.84794934513927% booty collected\n",
      "25 god found 1356 Summation 3642.782506655128\n",
      "87.84794934513927% booty collected\n",
      "25 god found 1358 Summation 19808.648314972907\n",
      "87.84794934513927% booty collected\n",
      "25 god found 1359 Summation 19855.53608985597\n",
      "88.9332688834928% booty collected\n",
      "26 god found 1423 Summation 3630.0802697640015\n",
      "88.9332688834928% booty collected\n",
      "26 god found 1424 Summation 19990.22468123671\n",
      "88.9332688834928% booty collected\n",
      "26 god found 1425 Summation 18856.766336351382\n",
      "88.9332688834928% booty collected\n",
      "26 god found 1484 Summation 5573.714466393399\n",
      "88.9332688834928% booty collected\n",
      "26 god found 1545 Summation 4201.150335261001\n",
      "88.9332688834928% booty collected\n",
      "26 god found 1605 Summation 3564.1751247147718\n",
      "88.9332688834928% booty collected\n",
      "26 god found 1757 Summation 19867.875209410915\n",
      "88.9332688834928% booty collected\n",
      "26 god found 1810 Summation 15963.14349481224\n",
      "88.9332688834928% booty collected\n",
      "26 god found 1811 Summation 19801.722637200066\n",
      "88.9332688834928% booty collected\n",
      "26 god found 1861 Summation 6305.095593675559\n"
     ]
    }
   ],
   "source": [
    "array = []\n",
    "apple = [[] for i in range(2418)]\n",
    "oranges = [0 for i in range(2418)]\n",
    "setr = set()\n",
    "gods = set()\n",
    "test_gods = set()\n",
    "devils = set()\n",
    "counter, score = 0,0\n",
    "cv = 0\n",
    "optimized = 0\n",
    "prev = -1\n",
    "run = True\n",
    "\n",
    "while run:\n",
    "    for x in range(len(op1)):\n",
    "\n",
    "        minIndex = -1\n",
    "        minVal = totArray[x]\n",
    "        for index, value in enumerate(op1[x]):\n",
    "            counter += 1\n",
    "            if value >= 0.005:\n",
    "                if totArray[index] < minVal and index not in gods:\n",
    "                    minVal = totArray[index]\n",
    "                    minIndex = index\n",
    "        if minIndex != -1:\n",
    "            if x not in devils:\n",
    "                apple[minIndex].append(x)\n",
    "                array.append(minIndex)\n",
    "                setr.add(minIndex)\n",
    "\n",
    "    for index, apples in enumerate(apple):\n",
    "        counter += 1\n",
    "        if apples != []:\n",
    "            distArr = [dist.values[index][i] for i in range(len(dist.values[index]))]\n",
    "            distArr1 = [dist.values[index][i] for i in range(len(dist.values[index]))]\n",
    "            optimaL = []\n",
    "            total = 0\n",
    "\n",
    "            distDict = {distArr[i]:i for i in range(len(distArr))}\n",
    "\n",
    "            distArr.sort()\n",
    "\n",
    "            ind = 0\n",
    "            while check_sum(optimaL) < 20000 and ind <= len(apple[index])-1:\n",
    "                if check_sum(optimaL)+arr[apples[ind]] <20000:\n",
    "                    counter += 1\n",
    "                    total += distArr1[distDict[distArr[ind]]]\n",
    "                    devils.add(apple[index][ind])\n",
    "\n",
    "                    optimaL.append(apple[index][ind])\n",
    "                    ind += 1\n",
    "\n",
    "                    aa = 0\n",
    "                    test_gods.add(index)\n",
    "                    for i in test_gods:\n",
    "                        aa += check_sum(apple[i])\n",
    "                    if aa < score:\n",
    "                        test_gods.remove(index)\n",
    "                    else:\n",
    "                        score = aa\n",
    "\n",
    "                    if check_sum(optimaL) > 19800 or (ind > len(apple[index])-1 and check_sum(optimaL)>3500) and score > aa:\n",
    "                        gods.add(index)\n",
    "                        if index in devils:\n",
    "                            devils.remove(index)\n",
    "                        aa = 0\n",
    "                        for i in gods:\n",
    "                            aa += check_sum(apple[i])\n",
    "                        print(f\"{aa/sum(arr)*100}% booty collected\")\n",
    "                        if prev == aa/sum(arr)*100:\n",
    "                            optimized += 1\n",
    "                        prev = aa/sum(arr)*100\n",
    "\n",
    "\n",
    "                        print(f\"{len(gods)} god found {index} Summation {check_sum(optimaL)}\")\n",
    "                        apple[index] = optimaL\n",
    "                        break\n",
    "                else:\n",
    "                    ind+=1\n",
    "                \n",
    "            if counter >= 5000:\n",
    "                \n",
    "                cv += counter\n",
    "                counter = 0\n",
    "                print(f\"Counter: {cv} iterations.... No:{len(gods)}\")\n",
    "        if optimized >= 100:\n",
    "            run = False"
   ]
  },
  {
   "cell_type": "code",
   "execution_count": 150,
   "id": "583fb93b",
   "metadata": {},
   "outputs": [],
   "source": [
    "minm = float('inf')\n",
    "best = -1\n",
    "for i in gods:\n",
    "    if check_sum(apple[i]) < minm:\n",
    "        minm = check_sum(apple[i])\n",
    "        best = i\n",
    "#     print(f\"Site Index: {i} ----- {check_sum(apple[i])}\")\n",
    "for each in apple[best]:\n",
    "    devils.remove(each)\n",
    "gods.remove(best)"
   ]
  },
  {
   "cell_type": "code",
   "execution_count": 151,
   "id": "993b2b53",
   "metadata": {},
   "outputs": [],
   "source": [
    "def merger(apple, gods):\n",
    "    impotent = []\n",
    "    for index in gods:\n",
    "        if check_sum(apple[index]) < 13000:\n",
    "            impotent.append(index)\n",
    "    return impotent\n",
    "\n",
    "sk = merger(apple, gods)"
   ]
  },
  {
   "cell_type": "code",
   "execution_count": 152,
   "id": "adb5d7a7",
   "metadata": {
    "scrolled": true
   },
   "outputs": [
    {
     "name": "stdout",
     "output_type": "stream",
     "text": [
      "Index: 1545 ---- [2054, 2101, 2102, 2103, 2104, 2105, 2146, 2147, 2148, 2188, 2226, 2227, 2262, 2263, 2264, 2293, 2318, 2319, 2320, 2321, 2339, 2340, 2341, 2342, 2343, 2352, 2353, 2354, 2355, 2363, 2364, 2365, 2372, 2373, 2374, 2381, 2382, 2383, 2384, 2389, 2390, 2391, 2392, 2400, 2401, 2402, 2403, 2411, 2412, 2413, 2414]  ---- 4201.150335261001\n",
      "\n",
      "\n",
      "Index: 1039 ---- [1248, 1308, 1309, 1310, 1311, 1312, 1313, 1314, 1315, 1373, 1374, 1375, 1376, 1377, 1378, 1379, 1380, 1381, 1382, 1383, 1384, 1385, 1386, 1387, 1388, 1389, 1390, 1438, 1439, 1440, 1441, 1442, 1443, 1444, 1445, 1446, 1447, 1448, 1449, 1450, 1452, 1453, 1463, 1464, 1501, 1502, 1503, 1504, 1509, 1515, 1516, 1523, 1581, 1582]  ---- 5882.544762527401\n",
      "\n",
      "\n",
      "Index: 1040 ---- [1214, 1272, 1403, 1466, 1524, 1583, 1048, 1103, 1158, 1213, 1337, 1402, 1270, 1271, 1336, 1400, 1091, 1094, 1203]  ---- 4620.561013474099\n",
      "\n",
      "\n",
      "Index: 1423 ---- [1484, 1545, 1605, 1484, 1545, 1605, 1484, 1545, 1605]  ---- 3630.0802697640015\n",
      "\n",
      "\n",
      "Index: 1091 ---- [1563, 1566, 1567, 1570, 1571, 1573, 1574, 1622, 1623, 1624, 1626, 1627, 1628, 1629, 1630, 1631, 1633, 1634, 1635, 1680, 1681, 1682, 1683]  ---- 3703.990843842399\n",
      "\n",
      "\n",
      "Index: 1605 ---- [2006, 2060, 2149, 2150, 2151, 2189, 2190, 2191, 2192, 2228, 2229, 2265, 2294, 2295, 2296, 2322, 2344, 2356, 2357, 2366, 2367, 2368, 2369, 2370, 2375, 2376, 2377, 2378, 2379, 2385, 2386, 2387, 2388, 2393, 2394, 2395, 2396, 2397, 2398, 2399, 2404, 2405, 2406, 2407, 2408, 2409, 2410, 2415, 2416, 2417]  ---- 3564.1751247147718\n",
      "\n",
      "\n",
      "Index: 1094 ---- [1051, 1104, 1105, 1159, 1160, 1161, 1215, 1216, 1273, 1274, 1338, 1339, 1404, 1465, 1467, 1525, 1528, 1584, 1585, 1639, 1642]  ---- 4794.261668745898\n",
      "\n",
      "\n",
      "Index: 1861 ---- [1741, 1742, 1743, 1795, 1796, 1797, 1798, 1849, 1850, 1851, 1906, 1907, 1908, 1909, 1963, 1964, 2016, 2017, 2018, 2065, 2066, 2067, 2068, 2112, 2113, 2114, 2115, 2116, 2117, 2118, 2156, 2157, 2158, 2159, 2160, 2161, 2162, 2163, 2164, 2198, 2199, 2200, 2201, 2236, 2237, 2238, 2239, 2274, 2275, 2303, 2304]  ---- 6305.095593675559\n",
      "\n",
      "\n",
      "Index: 1356 ---- [816, 941, 942, 1000, 1002, 1003, 1056, 1057, 1058, 1109, 1110, 1111, 1164, 1165, 1166, 1220, 1221, 1222, 1345, 1346, 1411, 1412, 1413, 1414, 1415, 1475, 1476, 1535, 1536, 1537]  ---- 3642.782506655128\n",
      "\n",
      "\n",
      "Index: 1484 ---- [1941, 1997, 1998, 1999, 2043, 2049, 2050, 2051, 2052, 2053, 2092, 2093, 2094, 2095, 2096, 2097, 2098, 2099, 2100, 2139, 2140, 2141, 2142, 2143, 2144, 2145, 2181, 2182, 2183, 2184, 2185, 2186, 2187, 2221, 2222, 2223, 2224, 2225, 2258, 2259, 2260, 2261, 2290, 2291, 2292, 2317]  ---- 5573.714466393399\n",
      "\n",
      "\n",
      "Index: 1231 ---- [451, 503, 505, 506, 509, 511, 512, 563, 564, 565, 566, 567, 568, 572, 618, 621, 622, 623, 624, 681, 682, 683, 684, 685, 686, 687, 688, 749, 750, 751, 813, 814, 877, 878, 879, 940, 1001]  ---- 5904.98381096352\n",
      "\n",
      "\n",
      "Index: 983 ---- [1212, 1091, 1094, 1203, 1091, 1094, 1203, 1091, 1094, 1203]  ---- 3865.875941176\n",
      "\n",
      "\n",
      "Index: 1120 ---- [275, 315, 316, 357, 358, 398, 399, 400, 403, 447, 449, 450, 452, 453, 454, 499, 502, 504, 555, 556, 557, 558, 559, 560, 561, 562, 613, 614, 615, 616, 678, 679, 680, 746, 747, 748, 812, 876]  ---- 6073.850102322839\n",
      "\n",
      "\n"
     ]
    },
    {
     "data": {
      "text/plain": [
       "61763.06643951602"
      ]
     },
     "execution_count": 152,
     "metadata": {},
     "output_type": "execute_result"
    }
   ],
   "source": [
    "klo=0\n",
    "for i in sk:\n",
    "    klo += check_sum(apple[i])\n",
    "    print(f\"Index: {i} ---- {apple[i]}  ---- {check_sum(apple[i])}\\n\\n\")\n",
    "klo"
   ]
  },
  {
   "cell_type": "code",
   "execution_count": 153,
   "id": "feedd564",
   "metadata": {},
   "outputs": [],
   "source": [
    "gr = []\n",
    "toodler = []\n",
    "k=0\n",
    "amassed = 0\n",
    "sk.sort()\n",
    "while k <= len(sk)-1:\n",
    "    if amassed + check_sum(apple[sk[k]]) < 20000:\n",
    "        amassed += check_sum(apple[sk[k]])\n",
    "        toodler.append(sk[k])\n",
    "    else:\n",
    "        gr.append(toodler)\n",
    "        toodler = []\n",
    "        amassed = 0\n",
    "    k+=1"
   ]
  },
  {
   "cell_type": "code",
   "execution_count": 154,
   "id": "49e9a763",
   "metadata": {},
   "outputs": [
    {
     "data": {
      "text/plain": [
       "[[983, 1039, 1040, 1091], [1120, 1231, 1356, 1423]]"
      ]
     },
     "execution_count": 154,
     "metadata": {},
     "output_type": "execute_result"
    }
   ],
   "source": [
    "gr"
   ]
  },
  {
   "cell_type": "code",
   "execution_count": 155,
   "id": "47846d8b",
   "metadata": {},
   "outputs": [
    {
     "name": "stdout",
     "output_type": "stream",
     "text": [
      "18072.9725610199\n",
      "19251.696689705488\n"
     ]
    }
   ],
   "source": [
    "for i in gr:\n",
    "    klo = 0\n",
    "    for k in i:\n",
    "        klo += check_sum(apple[k])\n",
    "    print(klo)"
   ]
  },
  {
   "cell_type": "code",
   "execution_count": 156,
   "id": "802555f1",
   "metadata": {},
   "outputs": [
    {
     "data": {
      "text/plain": [
       "5882.544762527401"
      ]
     },
     "execution_count": 156,
     "metadata": {},
     "output_type": "execute_result"
    }
   ],
   "source": [
    "check_sum(apple[1039])"
   ]
  },
  {
   "cell_type": "code",
   "execution_count": 157,
   "id": "ecedef5b",
   "metadata": {},
   "outputs": [],
   "source": [
    "grandpa = []\n",
    "for index,value in enumerate(gr):\n",
    "    papa = [[] for i in value]\n",
    "    for i,j in enumerate(value):\n",
    "        for x,y in enumerate(value):\n",
    "            papa[i].append(dist.values[y][j])\n",
    "    grandpa.append(papa)\n",
    "    \n",
    "yahoo_boys = set()\n",
    "\n",
    "love = []\n",
    "for q, array in enumerate(grandpa):\n",
    "    minm = float('inf')\n",
    "    minInd = -1\n",
    "    for index,each in enumerate(array):\n",
    "        if np.mean(each) < minm:\n",
    "            minm = np.mean(each)\n",
    "            minInd = gr[q][index]\n",
    "    \n",
    "    for i in gr[q]:\n",
    "        if i != minInd:\n",
    "            if arr[i] + check_sum(apple[minInd]) <= 20000:\n",
    "                apple[minInd].append(i)\n",
    "                for pl in apple[i]:\n",
    "                    if arr[pl] + check_sum(apple[minInd]) <= 20000:\n",
    "                        apple[minInd].append(pl)\n",
    "                    else:\n",
    "                        break\n",
    "            else:\n",
    "                break\n",
    "    love.append(minInd)"
   ]
  },
  {
   "cell_type": "code",
   "execution_count": 158,
   "id": "80476511",
   "metadata": {},
   "outputs": [
    {
     "data": {
      "text/plain": [
       "[[0.0, 23.0224, 26.3429, 25.5522],\n",
       " [23.0224, 0.0, 15.5308, 26.648],\n",
       " [26.3429, 15.5308, 0.0, 40.1918],\n",
       " [25.5522, 26.6533, 40.1972, 0.0]]"
      ]
     },
     "execution_count": 158,
     "metadata": {},
     "output_type": "execute_result"
    }
   ],
   "source": [
    "grandpa[0]"
   ]
  },
  {
   "cell_type": "code",
   "execution_count": 159,
   "id": "ccf545f8",
   "metadata": {},
   "outputs": [],
   "source": [
    "for i in sk:\n",
    "    if i not in love:\n",
    "        gods.remove(i)"
   ]
  },
  {
   "cell_type": "code",
   "execution_count": 197,
   "id": "43cd2a43",
   "metadata": {},
   "outputs": [
    {
     "name": "stdout",
     "output_type": "stream",
     "text": [
      "Index 385 ---- [48, 70, 224, 225, 226, 227, 228, 229, 230, 231, 232, 250, 251, 252, 253, 254, 255, 256, 257, 258, 259, 260, 261, 262, 263, 264, 265, 266, 267, 268, 269, 270, 271, 272, 273, 290, 291, 292, 293, 294, 295, 296, 297, 298, 299, 300, 301, 302, 303, 304, 305, 306, 307, 308, 309, 310, 311, 312, 331, 332, 333, 334, 335, 336, 337, 338, 339, 340, 341, 342, 343, 344, 345, 346, 347, 348, 349, 350, 351, 352, 353, 375, 376, 377, 378, 379, 380, 381, 382, 383, 384, 386, 387, 388, 389, 394, 395, 427, 432, 433, 434, 435, 436, 439, 487] ---- 19993.950009634365 \n",
      "\n",
      "\n",
      "Index 1038 ---- [1091, 1094, 1145, 1146, 1147, 1148, 1149, 1150, 1151, 1152, 1153, 1154, 1155, 1156, 1157, 1193, 1194, 1195, 1196, 1197, 1198, 1199, 1200, 1201, 1202, 1203, 1204, 1205, 1206, 1207, 1208, 1209, 1210, 1211, 1249, 1250, 1251, 1252, 1253, 1254, 1255, 1256, 1257, 1258, 1259, 1260, 1261, 1262, 1263, 1264, 1265, 1266, 1267, 1268, 1269, 1316, 1317, 1318, 1319, 1320, 1321, 1322, 1323, 1324, 1325, 1326, 1327, 1328, 1329, 1330, 1331, 1332, 1333, 1334, 1335, 1391, 1392, 1393, 1394, 1395, 1396, 1397, 1398, 1399, 1401, 1455, 1456, 1458, 1459, 1460, 1461] ---- 18327.00755091383 \n",
      "\n",
      "\n",
      "Index 1039 ---- [1248, 1308, 1309, 1310, 1311, 1312, 1313, 1314, 1315, 1373, 1374, 1375, 1376, 1377, 1378, 1379, 1380, 1381, 1382, 1383, 1384, 1385, 1386, 1387, 1388, 1389, 1390, 1438, 1439, 1440, 1441, 1442, 1443, 1444, 1445, 1446, 1447, 1448, 1449, 1450, 1452, 1453, 1463, 1464, 1501, 1502, 1503, 1504, 1509, 1515, 1516, 1523, 1581, 1582, 983, 1212, 1091, 1094, 1203, 1091, 1094, 1203, 1091, 1094, 1203, 1040, 1214, 1272, 1403, 1466, 1524, 1583, 1048, 1103, 1158, 1213, 1337, 1402, 1270, 1271, 1336, 1400, 1091, 1094, 1203, 1091, 1563, 1566, 1567, 1570, 1571, 1573, 1574, 1622, 1623, 1624, 1626, 1627, 1628, 1629, 1630, 1631, 1633, 1634, 1635, 1680, 1681, 1682, 1683] ---- 19315.990367251892 \n",
      "\n",
      "\n",
      "Index 1424 ---- [1883, 1939, 1940, 1990, 1991, 1992, 1993, 1994, 1995, 1996, 2044, 2045, 2046, 2047, 2048, 1368, 1369, 1370, 1371, 1372, 1416, 1417, 1418, 1419, 1420, 1421, 1422, 1423, 1425, 1426, 1427, 1428, 1429, 1430, 1431, 1432, 1433, 1434, 1435, 1436, 1437, 1477, 1478, 1479, 1480, 1481, 1482, 1483, 1484, 1485, 1486, 1487, 1488, 1489, 1490, 1491, 1492, 1493, 1494, 1495, 1496, 1497, 1498, 1538, 1539, 1540, 1541, 1542, 1543, 1544, 1545, 1546, 1547, 1548, 1549, 1550, 1551, 1552, 1553, 1554, 1555, 1556, 1557, 1558, 1559, 1599, 1600, 1601, 1602, 1603, 1604, 1605] ---- 19990.22468123671 \n",
      "\n",
      "\n",
      "Index 1425 ---- [2007, 1484, 1545, 1605, 1606, 1607, 1608, 1609, 1610, 1611, 1612, 1613, 1614, 1615, 1616, 1617, 1618, 1619, 1658, 1659, 1660, 1661, 1662, 1663, 1664, 1665, 1666, 1667, 1668, 1669, 1670, 1671, 1672, 1673, 1674, 1713, 1714, 1715, 1716, 1717, 1718, 1719, 1720, 1721, 1722, 1723, 1724, 1725, 1726, 1727, 1728, 1729, 1768, 1769, 1770, 1771, 1772, 1773, 1774, 1775, 1776, 1777, 1778, 1779, 1780, 1781, 1782, 1783, 1784, 1823, 1824, 1825, 1826, 1827, 1828, 1829, 1830, 1833, 1834, 1835, 1836, 1837, 1838, 1839, 1876, 1877, 1878, 1879, 1880, 1881, 1882, 1886, 1887, 1888, 1889, 1890, 1891, 1892, 1893, 1894, 1895, 1896, 1897, 1932, 1933, 1934, 1935, 1936, 1937, 1938, 1945, 1946, 1947, 1948, 1949, 1950, 1951, 1952, 1953, 1954, 1989, 2005] ---- 18856.766336351382 \n",
      "\n",
      "\n",
      "Index 1810 ---- [1965, 2019, 2069, 2070, 2202, 2203, 2240, 2241, 2242, 2276, 2305, 2306, 2330, 2308, 2334, 1861, 2086, 2087, 2088, 2089, 2090, 2091, 2119, 2120, 2121, 2122, 2123, 2124, 2125, 2126, 2127, 2128, 2129, 2130, 2131, 2132, 2133, 2134, 2135, 2136, 2137, 2138, 2165, 2166, 2167, 2168, 2169, 2170, 2171, 2172, 2173, 2174, 2175, 2176, 2177, 2178, 2179, 2180, 2204, 2205, 2206, 2207, 2208, 2209, 2210, 2211, 2212, 2213, 2214, 2215, 2216, 2217, 2218, 2219, 2220, 2243, 2244, 2245, 2246, 2247, 2248, 2249, 2250, 2251, 2252, 2253, 2254, 2255, 2256, 2257, 2277, 2278, 2279, 2280, 2281, 2282, 2283, 2284, 2285, 2286, 2287, 2288, 2289, 2307, 2309, 2310, 2311, 2312, 2313, 2314, 2315, 2316, 2331, 2332, 2333, 2335, 2336, 2337, 2338] ---- 15963.14349481224 \n",
      "\n",
      "\n",
      "Index 1811 ---- [1217, 1277, 1341, 1342, 1343, 1344, 1407, 1408, 1409, 1470, 1471, 1472, 1473, 1530, 1531, 1532, 1533, 1534, 1588, 1589, 1590, 1591, 1592, 1593, 1594, 1595, 1646, 1647, 1648, 1649, 1650, 1651, 1652, 1653, 1654, 1655, 1656, 1657, 1701, 1702, 1703, 1704, 1705, 1706, 1707, 1708, 1709, 1710, 1711, 1712, 1753, 1754, 1755, 1756, 1757, 1758, 1759, 1760, 1761, 1762, 1763, 1764, 1765, 1766, 1767, 1804, 1806, 1807, 1808, 1809, 1810, 1812, 1813, 1814, 1815, 1816, 1817, 1818, 1819, 1820, 1821, 1822, 1853, 1855, 1856, 1857, 1858] ---- 19801.722637200066 \n",
      "\n",
      "\n",
      "Index 437 ---- [0, 1, 2, 3, 4, 5, 6, 7, 8, 9, 10, 11, 12, 13, 14, 15, 16, 17, 18, 19, 20, 21, 22, 23, 24, 25, 26, 27, 28, 29, 30, 31, 32, 33, 34, 35, 36, 37, 38, 39, 40, 41, 42, 43, 44, 45, 46, 47, 49, 50, 51, 52, 53, 54, 55, 56, 57, 58, 59, 60, 61, 62, 63, 64, 65, 66, 67, 68, 69, 71, 72, 73, 74, 75, 76, 77, 78, 79, 80, 81, 82, 83, 84, 85, 86, 87, 88, 89, 90, 91, 92, 93, 94, 95, 96, 97, 98, 99, 100, 101, 102, 103, 104, 105, 106, 107, 108, 109, 110, 111, 112, 113, 114, 115, 116, 117, 118, 119, 120, 121, 122, 123, 124, 125, 126, 127, 128, 129, 130, 131, 132, 133, 134, 135, 136, 137, 138, 139, 140, 141, 142, 143, 144, 145, 146, 147, 148, 149, 150, 151, 152, 153, 154, 155, 156, 157, 158, 159, 160, 161, 162, 163, 164, 165, 166, 167, 168, 169, 170, 171, 172, 173, 174, 175, 176, 177, 178, 179, 180, 181, 182, 183, 184, 185, 186, 187, 188, 189, 190, 191, 192, 193, 194, 209, 210, 211, 212, 213, 214, 215, 216, 217, 218, 219, 220, 221, 222, 223] ---- 19863.369928818614 \n",
      "\n",
      "\n",
      "Index 1358 ---- [573, 625, 632, 633, 634, 635, 690, 692, 693, 695, 696, 697, 698, 699, 701, 702, 703, 757, 758, 759, 760, 761, 762, 763, 764, 765, 766, 767, 768, 769, 770, 771, 772, 773, 818, 820, 821, 822, 823, 824, 825, 826, 827, 828, 829, 830, 831, 832, 833, 834, 835, 836, 837, 838, 839, 882, 883, 884, 885, 886, 887, 888, 889, 890, 891, 892, 893, 894, 895, 896, 897, 898, 899, 900, 901, 902, 903, 943, 944, 945, 946, 947, 948, 949, 950, 951, 952, 953, 954, 955, 956, 957, 958, 959, 960, 961, 962, 963, 964, 965, 966, 967, 968, 1004, 1005, 1006, 1007, 1008, 1009, 1010, 1011, 1012, 1013, 1014, 1015, 1016, 1017, 1018, 1019, 1020, 1021, 1022, 1023, 1024, 1025, 1026, 1027, 1028, 1029, 1030, 1059, 1060, 1061, 1062, 1063, 1064, 1065, 1066, 1067, 1068, 1069, 1070, 1071, 1072, 1073, 1074, 1075, 1076, 1077, 1078, 1079, 1080, 1081, 1082, 1083, 1084, 1085, 1113, 1114, 1115, 1116, 1117, 1118, 1119, 1120, 1121, 1122, 1123, 1124, 1125, 1126, 1127, 1128, 1129, 1130, 1131, 1132, 1133, 1134, 1135, 1136, 1137, 1138, 1139, 1167] ---- 19808.648314972907 \n",
      "\n",
      "\n",
      "Index 1231 ---- [451, 503, 505, 506, 509, 511, 512, 563, 564, 565, 566, 567, 568, 572, 618, 621, 622, 623, 624, 681, 682, 683, 684, 685, 686, 687, 688, 749, 750, 751, 813, 814, 877, 878, 879, 940, 1001, 1120, 275, 315, 316, 357, 358, 398, 399, 400, 403, 447, 449, 450, 452, 453, 454, 499, 502, 504, 555, 556, 557, 558, 559, 560, 561, 562, 613, 614, 615, 616, 678, 679, 680, 746, 747, 748, 812, 876, 1356, 816, 941, 942, 1000, 1002, 1003, 1056, 1057, 1058, 1109, 1110, 1111, 1164, 1165, 1166, 1220, 1221, 1222, 1345, 1346, 1411, 1412, 1413, 1414, 1415, 1475, 1476, 1535, 1536, 1537, 1423, 1484, 1545, 1605, 1484, 1545, 1605, 1484, 1545] ---- 19759.301020089486 \n",
      "\n",
      "\n",
      "Index 1359 ---- [630, 700, 1831, 1832, 1884, 1885, 1943, 1944, 2002, 2003, 2004, 2008, 2009, 2010, 2011, 2058, 1168, 1169, 1170, 1171, 1172, 1173, 1174, 1175, 1176, 1177, 1178, 1179, 1180, 1181, 1182, 1183, 1184, 1185, 1186, 1187, 1188, 1189, 1190, 1191, 1192, 1223, 1224, 1225, 1226, 1227, 1228, 1229, 1230, 1231, 1232, 1233, 1234, 1235, 1236, 1237, 1238, 1239, 1240, 1241, 1242, 1243, 1244, 1245, 1246, 1279, 1280, 1281, 1282, 1283, 1284, 1285, 1286, 1287, 1288, 1289, 1290, 1291, 1292, 1293, 1294, 1295, 1296, 1297, 1298, 1299, 1300, 1301, 1302, 1303, 1304, 1305, 1306, 1347, 1348, 1349, 1350, 1351, 1352, 1353, 1354, 1355, 1356, 1357, 1360, 1361, 1362, 1363, 1364, 1365, 1366, 1367] ---- 19855.53608985597 \n",
      "\n",
      "\n",
      "Index 984 ---- [1454, 1457, 1462, 1517, 1518, 1519, 1520, 1521, 1522, 1580, 866, 867, 869, 904, 905, 906, 907, 908, 909, 910, 911, 912, 913, 914, 915, 916, 917, 918, 919, 920, 921, 922, 923, 924, 925, 926, 927, 928, 929, 930, 931, 969, 970, 971, 972, 973, 974, 975, 976, 977, 978, 979, 980, 981, 982, 983, 986, 987, 988, 989, 990, 991, 992, 993, 1031, 1032, 1033, 1034, 1035, 1036, 1037, 1038, 1039, 1040, 1041, 1042, 1043, 1044, 1045, 1046, 1047, 1086, 1087, 1088, 1089, 1090, 1091, 1092, 1093, 1094, 1095, 1096, 1097, 1098, 1099, 1100, 1101, 1102, 1140, 1141, 1142, 1143, 1144] ---- 19887.27687245911 \n",
      "\n",
      "\n",
      "Index 985 ---- [196, 197, 198, 199, 200, 201, 202, 203, 204, 235, 236, 237, 238, 239, 240, 241, 242, 243, 244, 245, 276, 277, 278, 279, 280, 281, 282, 283, 284, 285, 286, 317, 318, 319, 320, 321, 322, 323, 324, 325, 326, 327, 328, 360, 361, 362, 363, 364, 365, 366, 367, 368, 369, 370, 371, 372, 373, 374, 404, 405, 406, 407, 408, 409, 410, 411, 412, 413, 414, 415, 416, 417, 418, 419, 420, 421, 422, 423, 424, 425, 455, 456, 457, 458, 459, 460, 461, 462, 463, 464, 465, 466, 467, 468, 469, 470, 471, 472, 473, 474, 475, 476, 477, 478, 479, 480, 481, 513, 514, 515, 516, 517, 518, 519, 520, 521, 522, 523, 524, 525, 526, 527, 528, 529, 530, 531, 532, 533, 534, 535, 536, 537, 538, 539, 540, 541, 542, 574, 575, 576, 577, 578, 579, 580, 581, 582, 583, 584, 585, 586, 587, 588, 589, 590, 591, 592, 593, 594, 595, 596, 597, 598, 599, 600, 601, 602, 636, 637, 638, 639, 640, 641, 642, 643, 644, 645, 646, 647, 648, 649, 650, 651, 652, 653, 654, 655, 656, 657, 658, 659, 660, 661, 662, 663, 664, 665, 666, 667, 668, 704, 705, 706, 707, 708, 709, 710, 711, 712, 713, 714, 715, 716, 717, 718, 719, 720, 721, 722, 723, 724, 725, 726, 727, 728, 729, 730, 731, 732, 733, 734, 735, 736, 737, 738, 774, 775, 776, 777, 778, 779, 780, 781, 782, 783, 784, 785, 786, 787, 788, 789, 790, 791, 792, 793, 794, 795, 796, 797, 798, 799, 800, 801, 802, 803, 804, 805, 840, 841, 842, 843, 844, 845, 846, 847, 848, 849, 850, 851, 852, 853, 854, 855, 856, 857, 858, 859, 860, 861, 862, 863, 864, 865, 868] ---- 19974.605995271333 \n",
      "\n",
      "\n",
      "Index 1757 ---- [1859, 1860, 1861, 1862, 1863, 1864, 1865, 1866, 1867, 1868, 1869, 1870, 1871, 1872, 1873, 1874, 1875, 1910, 1911, 1912, 1913, 1914, 1915, 1916, 1917, 1918, 1919, 1920, 1921, 1922, 1923, 1924, 1925, 1926, 1927, 1928, 1929, 1930, 1931, 1966, 1967, 1968, 1969, 1970, 1971, 1972, 1973, 1974, 1975, 1976, 1977, 1978, 1979, 1980, 1981, 1982, 1983, 1984, 1985, 1986, 1987, 1988, 2020, 2021, 2022, 2023, 2024, 2025, 2026, 2027, 2028, 2029, 2030, 2031, 2032, 2033, 2034, 2035, 2036, 2037, 2038, 2039, 2040, 2041, 2042, 2071, 2072, 2073, 2074, 2075, 2076, 2077, 2078, 2079, 2080, 2081, 2082, 2083, 2084, 2085] ---- 19867.875209410915 \n",
      "\n",
      "\n"
     ]
    },
    {
     "data": {
      "text/plain": [
       "81.1027957808284"
      ]
     },
     "execution_count": 197,
     "metadata": {},
     "output_type": "execute_result"
    }
   ],
   "source": [
    "coat = 0\n",
    "for i in gods:\n",
    "    if i != []:\n",
    "        coat += check_sum(apple[i])\n",
    "        print(f\"Index {i} ---- {apple[i]} ---- {check_sum(apple[i])} \\n\\n\")\n",
    "coat/sum(arr)*100"
   ]
  },
  {
   "cell_type": "code",
   "execution_count": 161,
   "id": "6f020336",
   "metadata": {},
   "outputs": [
    {
     "data": {
      "text/plain": [
       "92.6884"
      ]
     },
     "execution_count": 161,
     "metadata": {},
     "output_type": "execute_result"
    }
   ],
   "source": [
    "dist.values[1120][684]"
   ]
  },
  {
   "cell_type": "code",
   "execution_count": 162,
   "id": "25705f49",
   "metadata": {},
   "outputs": [
    {
     "data": {
      "text/plain": [
       "19867.875209410915"
      ]
     },
     "execution_count": 162,
     "metadata": {},
     "output_type": "execute_result"
    }
   ],
   "source": [
    "check_sum(apple[1757])"
   ]
  },
  {
   "cell_type": "code",
   "execution_count": 164,
   "id": "5349e984",
   "metadata": {},
   "outputs": [
    {
     "name": "stdout",
     "output_type": "stream",
     "text": [
      "22439 8735 31173\n"
     ]
    }
   ],
   "source": [
    "cost_tp, cost_under = 0,0\n",
    "\n",
    "for i in gods:\n",
    "    for apps in apple[i]:\n",
    "        cost_tp += dist.values[i][apps] * arr[apps]\n",
    "        \n",
    "aa = 0\n",
    "for j,i in enumerate(gods):\n",
    "    aa += check_sum(apple[i])\n",
    "#     print(f\"Site Index: {i} ----- {check_sum(apple[i])}\")\n",
    "    cost_under += (20000 - check_sum(apple[i]))\n",
    "\n",
    "cost_cumulative = (cost_tp*0.001) + cost_under\n",
    "print(math.ceil(cost_tp*0.001), math.ceil(cost_under), math.ceil(cost_cumulative))"
   ]
  },
  {
   "cell_type": "code",
   "execution_count": 165,
   "id": "b94e8e4e",
   "metadata": {},
   "outputs": [],
   "source": [
    "def similar_array(arr1, arr2):\n",
    "    count = 0\n",
    "    for i in arr1:\n",
    "        if i in arr2:\n",
    "            count += 1\n",
    "    if count > 0:\n",
    "        return count/len(arr1)\n",
    "    return -1"
   ]
  },
  {
   "cell_type": "code",
   "execution_count": 166,
   "id": "eafc3b4a",
   "metadata": {},
   "outputs": [],
   "source": [
    "godKeys = list(gods)"
   ]
  },
  {
   "cell_type": "code",
   "execution_count": 167,
   "id": "e295eac2",
   "metadata": {
    "scrolled": false
   },
   "outputs": [
    {
     "ename": "KeyboardInterrupt",
     "evalue": "",
     "output_type": "error",
     "traceback": [
      "\u001b[1;31m---------------------------------------------------------------------------\u001b[0m",
      "\u001b[1;31mKeyboardInterrupt\u001b[0m                         Traceback (most recent call last)",
      "Cell \u001b[1;32mIn [167], line 3\u001b[0m\n\u001b[0;32m      1\u001b[0m distance_arr \u001b[38;5;241m=\u001b[39m [[] \u001b[38;5;28;01mfor\u001b[39;00m i \u001b[38;5;129;01min\u001b[39;00m \u001b[38;5;28mrange\u001b[39m(\u001b[38;5;241m2418\u001b[39m)]\n\u001b[0;32m      2\u001b[0m \u001b[38;5;28;01mfor\u001b[39;00m index \u001b[38;5;129;01min\u001b[39;00m \u001b[38;5;28mrange\u001b[39m(\u001b[38;5;241m2418\u001b[39m):\n\u001b[1;32m----> 3\u001b[0m     distArr1 \u001b[38;5;241m=\u001b[39m [dist\u001b[38;5;241m.\u001b[39mvalues[index][i] \u001b[38;5;28;01mfor\u001b[39;00m i \u001b[38;5;129;01min\u001b[39;00m \u001b[38;5;28mrange\u001b[39m(\u001b[38;5;28mlen\u001b[39m(dist\u001b[38;5;241m.\u001b[39mvalues[index]))]\n\u001b[0;32m      4\u001b[0m     \u001b[38;5;28;01mfor\u001b[39;00m x \u001b[38;5;129;01min\u001b[39;00m godKeys:\n\u001b[0;32m      5\u001b[0m         distance_arr[index]\u001b[38;5;241m.\u001b[39mappend(dist\u001b[38;5;241m.\u001b[39mvalues[index][x])\n",
      "Cell \u001b[1;32mIn [167], line 3\u001b[0m, in \u001b[0;36m<listcomp>\u001b[1;34m(.0)\u001b[0m\n\u001b[0;32m      1\u001b[0m distance_arr \u001b[38;5;241m=\u001b[39m [[] \u001b[38;5;28;01mfor\u001b[39;00m i \u001b[38;5;129;01min\u001b[39;00m \u001b[38;5;28mrange\u001b[39m(\u001b[38;5;241m2418\u001b[39m)]\n\u001b[0;32m      2\u001b[0m \u001b[38;5;28;01mfor\u001b[39;00m index \u001b[38;5;129;01min\u001b[39;00m \u001b[38;5;28mrange\u001b[39m(\u001b[38;5;241m2418\u001b[39m):\n\u001b[1;32m----> 3\u001b[0m     distArr1 \u001b[38;5;241m=\u001b[39m [dist\u001b[38;5;241m.\u001b[39mvalues[index][i] \u001b[38;5;28;01mfor\u001b[39;00m i \u001b[38;5;129;01min\u001b[39;00m \u001b[38;5;28mrange\u001b[39m(\u001b[38;5;28mlen\u001b[39m(dist\u001b[38;5;241m.\u001b[39mvalues[index]))]\n\u001b[0;32m      4\u001b[0m     \u001b[38;5;28;01mfor\u001b[39;00m x \u001b[38;5;129;01min\u001b[39;00m godKeys:\n\u001b[0;32m      5\u001b[0m         distance_arr[index]\u001b[38;5;241m.\u001b[39mappend(dist\u001b[38;5;241m.\u001b[39mvalues[index][x])\n",
      "\u001b[1;31mKeyboardInterrupt\u001b[0m: "
     ]
    }
   ],
   "source": [
    "distance_arr = [[] for i in range(2418)]\n",
    "for index in range(2418):\n",
    "    distArr1 = [dist.values[index][i] for i in range(len(dist.values[index]))]\n",
    "    for x in godKeys:\n",
    "        distance_arr[index].append(dist.values[index][x])\n",
    "\n",
    "distance_arr[0]"
   ]
  },
  {
   "cell_type": "code",
   "execution_count": 168,
   "id": "6fa9c73f",
   "metadata": {
    "scrolled": true
   },
   "outputs": [
    {
     "name": "stdout",
     "output_type": "stream",
     "text": [
      "Key Index 0 ---   Value 385\n",
      "Key Index 1 ---   Value 1038\n",
      "Key Index 2 ---   Value 1039\n",
      "Key Index 3 ---   Value 1424\n",
      "Key Index 4 ---   Value 1425\n",
      "Key Index 5 ---   Value 1810\n",
      "Key Index 6 ---   Value 1811\n",
      "Key Index 7 ---   Value 437\n",
      "Key Index 8 ---   Value 1358\n",
      "Key Index 9 ---   Value 1231\n",
      "Key Index 10 ---   Value 1359\n",
      "Key Index 11 ---   Value 984\n",
      "Key Index 12 ---   Value 985\n",
      "Key Index 13 ---   Value 1757\n"
     ]
    }
   ],
   "source": [
    "for i,j in enumerate(godKeys):\n",
    "    print(f\"Key Index {i} ---   Value {j}\")"
   ]
  },
  {
   "cell_type": "code",
   "execution_count": 169,
   "id": "9cb73a43",
   "metadata": {},
   "outputs": [],
   "source": [
    "def binSearch(arr, target):\n",
    "    left, right = 0, len(arr)-1\n",
    "    f = -1\n",
    "    while left <= right:\n",
    "        mid = left + (right-left)//2\n",
    "        \n",
    "        if arr[mid] == target:\n",
    "            break\n",
    "        elif arr[mid] > target:\n",
    "            right = mid - 1\n",
    "        else:\n",
    "            left = mid + 1\n",
    "    \n",
    "    if arr[mid] == target:\n",
    "        return mid\n",
    "    else:\n",
    "        x, y = 0,0\n",
    "        if mid-1 >= 0:\n",
    "            x = arr[mid-1]\n",
    "        if mid+1 <= len(arr)-1:\n",
    "            y = arr[mid+1]\n",
    "        if abs(target-arr[mid]) < abs(target-x) and abs(target-arr[mid]) < abs(target-y):\n",
    "            return mid\n",
    "        if abs(target-x) < abs(target-y):\n",
    "            return mid-1\n",
    "        else:\n",
    "            return mid+1"
   ]
  },
  {
   "cell_type": "code",
   "execution_count": 170,
   "id": "7177a43f",
   "metadata": {},
   "outputs": [
    {
     "name": "stdout",
     "output_type": "stream",
     "text": [
      "[385, 1038, 1039, 1424, 1425, 1810, 1811, 437, 1358, 1231, 1359, 984, 985, 1757]\n"
     ]
    }
   ],
   "source": [
    "print(godKeys)"
   ]
  },
  {
   "cell_type": "code",
   "execution_count": 171,
   "id": "349213fb",
   "metadata": {},
   "outputs": [],
   "source": [
    "coolKeys = [i for i in godKeys]\n",
    "coolKeys.sort()"
   ]
  },
  {
   "cell_type": "raw",
   "id": "b3010d47",
   "metadata": {},
   "source": [
    "dictPoints = {coolKeys[i]:[] for i in range(len(godKeys))}\n",
    "\n",
    "for love in range(24):\n",
    "    mini = float('inf')\n",
    "    minIndex = None\n",
    "    minVal = float('inf')\n",
    "    \n",
    "    for j, i in enumerate(distance_arr):\n",
    "        q = i[love]\n",
    "        if q < mini and q > 0:\n",
    "            mini = q\n",
    "            minIndex = j\n",
    "            minVal = q\n",
    "    print(f\"Value: -> {dist.values[coolKeys[love]][minIndex]} ------- From: ->{coolKeys[love]} ------- To ->: {coolKeys[binSearch(coolKeys, minIndex)]} -------- Optimal Distance: {dist.values[coolKeys[love]][coolKeys[binSearch(coolKeys, minIndex)]]}\")\n",
    "    dictPoints[coolKeys[binSearch(coolKeys, minIndex)]].append(coolKeys[love])\n",
    "    if dictPoints[coolKeys[love]] != dictPoints[coolKeys[binSearch(coolKeys, minIndex)]]:\n",
    "        for i in dictPoints[coolKeys[love]]:\n",
    "            dictPoints[coolKeys[binSearch(coolKeys, minIndex)]].append(i)"
   ]
  },
  {
   "cell_type": "code",
   "execution_count": 172,
   "id": "dc4b5a97",
   "metadata": {},
   "outputs": [],
   "source": [
    "def group_elements_kmeans(array, num_clusters):\n",
    "    # Convert the array to a 2D numpy array\n",
    "    data = np.array(array).reshape(-1, 1)\n",
    "\n",
    "    # Create a k-means clustering model\n",
    "    kmeans = KMeans(n_clusters=num_clusters)\n",
    "\n",
    "    # Fit the model to your data\n",
    "    kmeans.fit(data)\n",
    "\n",
    "    # Get the cluster assignments for each data point\n",
    "    cluster_labels = kmeans.labels_\n",
    "\n",
    "    # Create three groups based on cluster assignments\n",
    "    groups = [[] for _ in range(num_clusters)]\n",
    "    for i, label in enumerate(cluster_labels):\n",
    "        groups[label].append(array[i])\n",
    "\n",
    "    return groups"
   ]
  },
  {
   "cell_type": "code",
   "execution_count": 189,
   "id": "d457d767",
   "metadata": {},
   "outputs": [
    {
     "name": "stdout",
     "output_type": "stream",
     "text": [
      "219.9897\n"
     ]
    }
   ],
   "source": [
    "print(dist.values[385, 984])"
   ]
  },
  {
   "cell_type": "code",
   "execution_count": 190,
   "id": "49da23d8",
   "metadata": {},
   "outputs": [
    {
     "data": {
      "text/plain": [
       "19863.369928818614"
      ]
     },
     "execution_count": 190,
     "metadata": {},
     "output_type": "execute_result"
    }
   ],
   "source": [
    "check_sum(apple[437])"
   ]
  },
  {
   "cell_type": "code",
   "execution_count": 186,
   "id": "e4d7986b",
   "metadata": {},
   "outputs": [
    {
     "name": "stdout",
     "output_type": "stream",
     "text": [
      "[385, 437, 984, 985, 1038, 1039, 1231, 1358, 1359, 1424, 1425, 1757, 1810, 1811]\n"
     ]
    }
   ],
   "source": [
    "print(coolKeys)"
   ]
  },
  {
   "cell_type": "code",
   "execution_count": 230,
   "id": "f8580fb5",
   "metadata": {},
   "outputs": [
    {
     "data": {
      "text/plain": [
       "19801.722637200066"
      ]
     },
     "execution_count": 230,
     "metadata": {},
     "output_type": "execute_result"
    }
   ],
   "source": [
    "sume = 0\n",
    "for index,val in enumerate(apple[1811]):\n",
    "    sume += arr[val]\n",
    "sume"
   ]
  },
  {
   "cell_type": "code",
   "execution_count": 229,
   "id": "30ecf22a",
   "metadata": {
    "scrolled": true
   },
   "outputs": [
    {
     "name": "stdout",
     "output_type": "stream",
     "text": [
      "Sum 99960.53308543531\n",
      "Sum 99892.05889750742\n",
      "Sum 99876.20297732034\n",
      "Hey\n",
      "[{385, 1038, 1039, 437, 984, 985}, {1358, 1359, 1231, 1424, 1039}, {1424, 1425, 1810, 1811, 1757}, {1811}]\n"
     ]
    }
   ],
   "source": [
    "child, father = set(),[]\n",
    "summed = 0\n",
    "rem = False\n",
    "remainder = []\n",
    "remt = -1\n",
    "for index, value in enumerate(coolKeys):\n",
    "    \n",
    "    if rem:\n",
    "        child.add(remt)\n",
    "        for i in remainder:  \n",
    "            summed += arr[i]\n",
    "        rem = False\n",
    "        \n",
    "    for ind, val in enumerate(apple[value]):\n",
    "        if (summed + arr[val]) <= 100000:\n",
    "            child.add(value)\n",
    "            summed += arr[val]\n",
    "\n",
    "        else:\n",
    "            print(f\"Sum {summed}\")\n",
    "            father.append(child)\n",
    "            child = set()\n",
    "            summed = 0\n",
    "            rem = True\n",
    "            remt = value\n",
    "            remainder = apple[value][ind:]\n",
    "    if index == len(coolKeys)-1:\n",
    "        print(\"Hey\")\n",
    "        father.append(child)\n",
    "\n",
    "print(father)"
   ]
  },
  {
   "cell_type": "code",
   "execution_count": 199,
   "id": "af432b04",
   "metadata": {},
   "outputs": [
    {
     "data": {
      "text/plain": [
       "35764.86613201231"
      ]
     },
     "execution_count": 199,
     "metadata": {},
     "output_type": "execute_result"
    }
   ],
   "source": [
    "g = 0\n",
    "for i in father[2]:\n",
    "    g += check_sum(apple[i])\n",
    "g"
   ]
  },
  {
   "cell_type": "code",
   "execution_count": 200,
   "id": "9c8757af",
   "metadata": {},
   "outputs": [
    {
     "data": {
      "text/plain": [
       "334471.1065711526"
      ]
     },
     "execution_count": 200,
     "metadata": {},
     "output_type": "execute_result"
    }
   ],
   "source": [
    "sum(arr)"
   ]
  },
  {
   "cell_type": "code",
   "execution_count": 273,
   "id": "8bdd449c",
   "metadata": {},
   "outputs": [
    {
     "name": "stdout",
     "output_type": "stream",
     "text": [
      "140974.606 121998 262973\n"
     ]
    }
   ],
   "source": [
    "cost_tp, cost_under = 0,0\n",
    "\n",
    "op = [one,two, three, four]\n",
    "\n",
    "for i in gods:\n",
    "    for apps in apple[i]:\n",
    "        cost_tp += dist.values[apps][i] * arr[apps]\n",
    "\n",
    "for i,j in enumerate(bosses):\n",
    "    saf = 0\n",
    "    for val in op[i]:\n",
    "        cost_tp += dist.values[val][i]*check_sum(apple[val])\n",
    "        \n",
    "### Under utlization section\n",
    "\n",
    "aa = 0\n",
    "for j,i in enumerate(gods):\n",
    "    aa += check_sum(apple[i])\n",
    "#     print(f\"Site Index: {i} ----- {check_sum(apple[i])}\")\n",
    "    cost_under += (20000 - check_sum(apple[i]))\n",
    "    \n",
    "for i in bosses:\n",
    "    saf = 0\n",
    "    for i in four:\n",
    "        saf += check_sum(apple[i])\n",
    "    cost_under += 100000 - saf\n",
    "\n",
    "########################################\n",
    "\n",
    "\n",
    "\n",
    "cost_cumulative = (cost_tp*0.001) + cost_under\n",
    "print(math.ceil(cost_tp)*0.001, math.ceil(cost_under), math.ceil(cost_cumulative))"
   ]
  },
  {
   "cell_type": "code",
   "execution_count": 72,
   "id": "e4ddc17c",
   "metadata": {},
   "outputs": [
    {
     "data": {
      "text/plain": [
       "19863.369928818614"
      ]
     },
     "execution_count": 72,
     "metadata": {},
     "output_type": "execute_result"
    }
   ],
   "source": [
    "check_sum(apple[437])"
   ]
  },
  {
   "cell_type": "code",
   "execution_count": 48,
   "id": "f64bbdbd",
   "metadata": {
    "scrolled": true
   },
   "outputs": [
    {
     "name": "stdout",
     "output_type": "stream",
     "text": [
      "Cool angel:->  156.95020000000002 1120 385\n",
      "Cool angel:->  84.3283 1120 1545\n",
      "Cool angel:->  278.6772 1120 1038\n",
      "Cool angel:->  261.849 1120 1039\n",
      "Cool angel:->  66.1155 1120 1424\n",
      "Cool angel:->  60.5912 1120 1425\n",
      "Cool angel:->  247.5255 1120 1810\n",
      "Cool angel:->  240.4583 1120 1811\n",
      "Cool angel:->  255.704 1120 1040\n",
      "Cool angel:->  57.3524 1120 1423\n",
      "Cool angel:->  263.4689 1120 1203\n",
      "Cool angel:->  144.6051 1120 437\n",
      "Cool angel:->  284.59040000000005 1120 1091\n",
      "Cool angel:->  92.6803 1120 1605\n",
      "Cool angel:->  247.7984 1120 1094\n",
      "Cool angel:->  277.52840000000003 1120 1861\n",
      "Cool angel:->  44.5015 1120 1356\n",
      "Cool angel:->  74.628 1120 1484\n",
      "Cool angel:->  46.708 1120 1358\n",
      "Cool angel:->  23.861 1120 1231\n",
      "Cool angel:->  49.4474 1120 1359\n",
      "Cool angel:->  278.4814 1120 983\n",
      "Cool angel:->  269.0486 1120 984\n",
      "Cool angel:->  261.4442 1120 985\n",
      "Cool angel:->  237.949 1120 1757\n",
      "Cool angel:->  0.0 1120 1120\n"
     ]
    }
   ],
   "source": [
    "for i in two:\n",
    "    for x in gods:\n",
    "        print(f\"Cool angel:->  {dist.values[1120][x]} {1120} {x}\")\n",
    "    break"
   ]
  },
  {
   "cell_type": "code",
   "execution_count": 334,
   "id": "b715c240",
   "metadata": {},
   "outputs": [
    {
     "data": {
      "text/plain": [
       "278.392"
      ]
     },
     "execution_count": 334,
     "metadata": {},
     "output_type": "execute_result"
    }
   ],
   "source": [
    "dist.values[983,1120]"
   ]
  },
  {
   "cell_type": "code",
   "execution_count": 45,
   "id": "9180875b",
   "metadata": {},
   "outputs": [
    {
     "data": {
      "text/plain": [
       "61937.83693509878"
      ]
     },
     "execution_count": 45,
     "metadata": {},
     "output_type": "execute_result"
    }
   ],
   "source": [
    "saf = 0\n",
    "for i in four:\n",
    "    saf += check_sum(apple[i])\n",
    "saf"
   ]
  },
  {
   "cell_type": "code",
   "execution_count": 40,
   "id": "e13eb0f4",
   "metadata": {},
   "outputs": [
    {
     "data": {
      "text/plain": [
       "19863.369928818614"
      ]
     },
     "execution_count": 40,
     "metadata": {},
     "output_type": "execute_result"
    }
   ],
   "source": [
    "check_sum(apple[437])"
   ]
  },
  {
   "cell_type": "code",
   "execution_count": 290,
   "id": "7b239dd8",
   "metadata": {},
   "outputs": [
    {
     "data": {
      "text/plain": [
       "304.0925"
      ]
     },
     "execution_count": 290,
     "metadata": {},
     "output_type": "execute_result"
    }
   ],
   "source": [
    "dist.values[985][1484]"
   ]
  },
  {
   "cell_type": "code",
   "execution_count": 81,
   "id": "c6d57ae1",
   "metadata": {},
   "outputs": [],
   "source": [
    "k = 0\n",
    "dg = [i for i in range(2418)]\n",
    "keep = []\n",
    "for x in dg:\n",
    "    if x not in devils and x not in gods:\n",
    "        k+=1\n",
    "#         print(f\"Poor guys: {arr[x]}\")\n",
    "        keep.append(x)\n",
    "        \n",
    "# print(len(keep))\n",
    "# print(keep)"
   ]
  },
  {
   "cell_type": "code",
   "execution_count": 200,
   "id": "15425459",
   "metadata": {},
   "outputs": [
    {
     "name": "stdout",
     "output_type": "stream",
     "text": [
      "467.4758561639999 12322.990801582353 1091\n"
     ]
    }
   ],
   "source": [
    "minm = float('inf')\n",
    "each = keep[0]\n",
    "for i in gods:\n",
    "    if dist.values[each][i] < minm:\n",
    "        minm = dist.values[each][i]\n",
    "        gilded = i\n",
    "# if cost_tp _ minm*value\n",
    "        \n",
    "print(arr[each], minm*arr[each], gilded)"
   ]
  },
  {
   "cell_type": "code",
   "execution_count": 198,
   "id": "47d0d68f",
   "metadata": {},
   "outputs": [
    {
     "data": {
      "text/plain": [
       "3703.990843842399"
      ]
     },
     "execution_count": 198,
     "metadata": {},
     "output_type": "execute_result"
    }
   ],
   "source": [
    "check_sum(apple[1091])"
   ]
  },
  {
   "cell_type": "code",
   "execution_count": 197,
   "id": "75a69fb8",
   "metadata": {},
   "outputs": [
    {
     "name": "stdout",
     "output_type": "stream",
     "text": [
      "[1563, 1566, 1567, 1570, 1571, 1573, 1574, 1622, 1623, 1624, 1626, 1627, 1628, 1629, 1630, 1631, 1633, 1634, 1635, 1680, 1681, 1682, 1683]\n"
     ]
    }
   ],
   "source": [
    "print(apple[1091])"
   ]
  },
  {
   "cell_type": "code",
   "execution_count": 194,
   "id": "5860c010",
   "metadata": {},
   "outputs": [
    {
     "data": {
      "text/plain": [
       "2006"
      ]
     },
     "execution_count": 194,
     "metadata": {},
     "output_type": "execute_result"
    }
   ],
   "source": [
    "s=0\n",
    "for i in gods:\n",
    "    s += len(apple[i])\n",
    "s"
   ]
  },
  {
   "cell_type": "code",
   "execution_count": 137,
   "id": "4020fc87",
   "metadata": {},
   "outputs": [
    {
     "data": {
      "text/plain": [
       "19993.950009634365"
      ]
     },
     "execution_count": 137,
     "metadata": {},
     "output_type": "execute_result"
    }
   ],
   "source": [
    "check_sum(apple[385])"
   ]
  },
  {
   "cell_type": "code",
   "execution_count": 159,
   "id": "58040c11",
   "metadata": {
    "scrolled": true
   },
   "outputs": [
    {
     "name": "stdout",
     "output_type": "stream",
     "text": [
      "Site Index: 385 ----- 19993.950009634365\n",
      "Site Index: 1545 ----- 4201.150335261001\n",
      "Site Index: 1038 ----- 18327.00755091383\n",
      "Site Index: 1039 ----- 5882.544762527401\n",
      "Site Index: 1424 ----- 19990.22468123671\n",
      "Site Index: 1425 ----- 18856.766336351382\n",
      "Site Index: 1810 ----- 15963.14349481224\n",
      "Site Index: 1811 ----- 19801.722637200066\n",
      "Site Index: 1040 ----- 4620.561013474099\n",
      "Site Index: 1423 ----- 3630.0802697640015\n",
      "Site Index: 437 ----- 19863.369928818614\n",
      "Site Index: 1091 ----- 3703.990843842399\n",
      "Site Index: 1094 ----- 4794.261668745898\n",
      "Site Index: 1861 ----- 6305.095593675559\n",
      "Site Index: 1356 ----- 3642.782506655128\n",
      "Site Index: 1484 ----- 5573.714466393399\n",
      "Site Index: 1358 ----- 19808.648314972907\n",
      "Site Index: 1231 ----- 5904.98381096352\n",
      "Site Index: 1359 ----- 19855.53608985597\n",
      "Site Index: 983 ----- 3865.875941176\n",
      "Site Index: 984 ----- 19887.27687245911\n",
      "Site Index: 985 ----- 19974.605995271333\n",
      "Site Index: 1757 ----- 19867.875209410915\n",
      "Site Index: 1120 ----- 6073.850102322839\n"
     ]
    },
    {
     "data": {
      "text/plain": [
       "86.82035988479731"
      ]
     },
     "execution_count": 159,
     "metadata": {},
     "output_type": "execute_result"
    }
   ],
   "source": [
    "aa = 0\n",
    "for j,i in enumerate(gods):\n",
    "    aa += check_sum(apple[i])\n",
    "    print(f\"Site Index: {i} ----- {check_sum(apple[i])}\")\n",
    "aa/sum(arr)*100"
   ]
  },
  {
   "cell_type": "code",
   "execution_count": 141,
   "id": "6918b193",
   "metadata": {},
   "outputs": [
    {
     "name": "stdout",
     "output_type": "stream",
     "text": [
      "28\n"
     ]
    }
   ],
   "source": [
    "k = 0\n",
    "dg = [i for i in range(2418)]\n",
    "keep = []\n",
    "for x in dg:\n",
    "    if binSearch(list(devils), x) == -1:\n",
    "        k+=1\n",
    "        keep.append(x)\n",
    "print(len(keep))"
   ]
  },
  {
   "cell_type": "code",
   "execution_count": 133,
   "id": "6d2d4759",
   "metadata": {},
   "outputs": [
    {
     "data": {
      "text/plain": [
       "19993.950009634365"
      ]
     },
     "execution_count": 133,
     "metadata": {},
     "output_type": "execute_result"
    }
   ],
   "source": [
    "check_sum(apple[385])"
   ]
  },
  {
   "cell_type": "code",
   "execution_count": 142,
   "id": "2713b63a",
   "metadata": {},
   "outputs": [
    {
     "name": "stdout",
     "output_type": "stream",
     "text": [
      "26\n"
     ]
    }
   ],
   "source": [
    "print(len(gods))"
   ]
  },
  {
   "cell_type": "code",
   "execution_count": 389,
   "id": "291b33ca",
   "metadata": {},
   "outputs": [
    {
     "data": {
      "text/plain": [
       "19561.896892545614"
      ]
     },
     "execution_count": 389,
     "metadata": {},
     "output_type": "execute_result"
    }
   ],
   "source": [
    "distArr = [dist.values[437][i] for i in range(len(dist.values[437]))]\n",
    "distArr1 = [dist.values[437][i] for i in range(len(dist.values[437]))]\n",
    "optimaL = []\n",
    "total = 0\n",
    "    \n",
    "distDict = {distArr[i]:i for i in range(len(distArr))}\n",
    "\n",
    "distArr.sort()\n",
    "\n",
    "ind = 0\n",
    "while check_sum(optimaL)  < 19500:\n",
    "    total += distArr1[distDict[distArr[ind]]]\n",
    "    optimaL.append(apple[437][ind])\n",
    "    ind += 1\n",
    "ind\n",
    "\n",
    "optimaL.sort()\n",
    "\n",
    "check_sum(optimaL)"
   ]
  },
  {
   "cell_type": "code",
   "execution_count": 390,
   "id": "e7ea4fb7",
   "metadata": {},
   "outputs": [
    {
     "data": {
      "text/plain": [
       "110"
      ]
     },
     "execution_count": 390,
     "metadata": {},
     "output_type": "execute_result"
    }
   ],
   "source": [
    "len(apple[437]) - len(optimaL)"
   ]
  },
  {
   "cell_type": "code",
   "execution_count": 112,
   "id": "ebf5475c",
   "metadata": {},
   "outputs": [],
   "source": [
    "def binSearch(arr11, target):\n",
    "    left, right = 0, len(arr11)-1\n",
    "    f = -1\n",
    "    while left <= right:\n",
    "        mid = left + (right-left)//2\n",
    "        \n",
    "        if arr11[mid] == target:\n",
    "            f = mid\n",
    "            break\n",
    "        elif arr11[mid] > target:\n",
    "            right = mid-1\n",
    "        else:\n",
    "            left = mid +1\n",
    "    return f"
   ]
  },
  {
   "cell_type": "code",
   "execution_count": 384,
   "id": "7b512582",
   "metadata": {},
   "outputs": [
    {
     "data": {
      "text/plain": [
       "-1"
      ]
     },
     "execution_count": 384,
     "metadata": {},
     "output_type": "execute_result"
    }
   ],
   "source": [
    "binSearch(optimaL, 492)"
   ]
  },
  {
   "cell_type": "code",
   "execution_count": 506,
   "id": "da6e7bf2",
   "metadata": {},
   "outputs": [
    {
     "name": "stdout",
     "output_type": "stream",
     "text": [
      "0\n"
     ]
    }
   ],
   "source": [
    "k = 0\n",
    "\n",
    "for x in range(len(apple[1425])):\n",
    "    if binSearch(apple[1424], x) != -1:\n",
    "        k+=1\n",
    "print(k)"
   ]
  },
  {
   "cell_type": "code",
   "execution_count": 414,
   "id": "689971e0",
   "metadata": {
    "scrolled": true
   },
   "outputs": [
    {
     "name": "stdout",
     "output_type": "stream",
     "text": [
      "[(985, 490), (1358, 478), (437, 316), (1811, 292), (1039, 108), (1861, 102), (1545, 102), (1605, 100), (1484, 92), (1664, 90), (1120, 75), (1231, 74), (1356, 60), (1037, 54), (1091, 46), (1094, 42), (1292, 38), (1751, 38), (1359, 32), (1203, 32), (1063, 30), (1806, 30), (1424, 30), (1810, 26), (731, 24), (988, 24), (1036, 24), (863, 22), (861, 22), (1095, 20), (984, 20), (1146, 18), (1121, 17), (1042, 16), (1290, 16), (1092, 16), (1860, 16), (1718, 16), (799, 14), (864, 14), (1040, 12), (1426, 12), (1067, 11), (1066, 10), (1119, 10), (1176, 8), (926, 8), (1089, 8), (1148, 8), (1750, 8), (923, 6), (1118, 6), (1360, 6), (1147, 6), (796, 5), (1291, 4), (1090, 4), (1547, 4), (385, 2), (858, 2)] 3216\n"
     ]
    }
   ],
   "source": [
    "counts = Counter(array)\n",
    "s = 0\n",
    "for i in counts.most_common(60):\n",
    "    s += i[1]\n",
    "print(counts.most_common(60), s)"
   ]
  },
  {
   "cell_type": "code",
   "execution_count": 249,
   "id": "3f0d40bf",
   "metadata": {},
   "outputs": [],
   "source": []
  },
  {
   "cell_type": "code",
   "execution_count": null,
   "id": "24f1da1c",
   "metadata": {},
   "outputs": [],
   "source": []
  }
 ],
 "metadata": {
  "kernelspec": {
   "display_name": "Python 3 (ipykernel)",
   "language": "python",
   "name": "python3"
  },
  "language_info": {
   "codemirror_mode": {
    "name": "ipython",
    "version": 3
   },
   "file_extension": ".py",
   "mimetype": "text/x-python",
   "name": "python",
   "nbconvert_exporter": "python",
   "pygments_lexer": "ipython3",
   "version": "3.9.13"
  }
 },
 "nbformat": 4,
 "nbformat_minor": 5
}
