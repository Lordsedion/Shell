{
 "cells": [
  {
   "cell_type": "markdown",
   "id": "0b24ea58",
   "metadata": {},
   "source": [
    "### Cost = (Sum of distance from the 𝑖tℎ harvesting site to the 𝑗𝑡ℎ depot  X  The amount of biomass gotten and transported from the 𝑖𝑡ℎ harvesting site to the 𝑗𝑡ℎ depot)                                                                  \n",
    "#    + \n",
    "###      (Sum of distance from the 𝑖tℎ harvesting site to the 𝑗𝑡ℎ depot  X  The amount of pellets transported from the 𝑗𝑡ℎ depot to the 𝑘𝑡ℎ biorefinery)"
   ]
  },
  {
   "cell_type": "code",
   "execution_count": 1,
   "id": "e3fbcfc3",
   "metadata": {},
   "outputs": [],
   "source": [
    "import pandas as pd\n",
    "import numpy as np\n",
    "import heapq\n",
    "from collections import Counter\n",
    "import math\n",
    "import random\n",
    "import matplotlib.pyplot as plt"
   ]
  },
  {
   "cell_type": "code",
   "execution_count": 2,
   "id": "bb1d2a09",
   "metadata": {},
   "outputs": [],
   "source": [
    "dataset = pd.read_csv('pred.csv')\n",
    "dist = pd.read_csv('dataset/Distance_Matrix.csv')\n",
    "optDist = pd.read_csv('optimized_points.csv')"
   ]
  },
  {
   "cell_type": "code",
   "execution_count": 3,
   "id": "31b604a9",
   "metadata": {},
   "outputs": [],
   "source": [
    "optDist.fillna(0, inplace=True)"
   ]
  },
  {
   "cell_type": "code",
   "execution_count": 4,
   "id": "e0ef6798",
   "metadata": {},
   "outputs": [
    {
     "data": {
      "text/html": [
       "<div>\n",
       "<style scoped>\n",
       "    .dataframe tbody tr th:only-of-type {\n",
       "        vertical-align: middle;\n",
       "    }\n",
       "\n",
       "    .dataframe tbody tr th {\n",
       "        vertical-align: top;\n",
       "    }\n",
       "\n",
       "    .dataframe thead th {\n",
       "        text-align: right;\n",
       "    }\n",
       "</style>\n",
       "<table border=\"1\" class=\"dataframe\">\n",
       "  <thead>\n",
       "    <tr style=\"text-align: right;\">\n",
       "      <th></th>\n",
       "      <th>Predictions</th>\n",
       "    </tr>\n",
       "  </thead>\n",
       "  <tbody>\n",
       "    <tr>\n",
       "      <th>0</th>\n",
       "      <td>9.579263</td>\n",
       "    </tr>\n",
       "    <tr>\n",
       "      <th>1</th>\n",
       "      <td>33.575882</td>\n",
       "    </tr>\n",
       "    <tr>\n",
       "      <th>2</th>\n",
       "      <td>71.998426</td>\n",
       "    </tr>\n",
       "    <tr>\n",
       "      <th>3</th>\n",
       "      <td>94.521988</td>\n",
       "    </tr>\n",
       "    <tr>\n",
       "      <th>4</th>\n",
       "      <td>21.116828</td>\n",
       "    </tr>\n",
       "  </tbody>\n",
       "</table>\n",
       "</div>"
      ],
      "text/plain": [
       "   Predictions\n",
       "0     9.579263\n",
       "1    33.575882\n",
       "2    71.998426\n",
       "3    94.521988\n",
       "4    21.116828"
      ]
     },
     "execution_count": 4,
     "metadata": {},
     "output_type": "execute_result"
    }
   ],
   "source": [
    "dataset.head()"
   ]
  },
  {
   "cell_type": "code",
   "execution_count": 5,
   "id": "0c9aabde",
   "metadata": {},
   "outputs": [
    {
     "data": {
      "text/html": [
       "<div>\n",
       "<style scoped>\n",
       "    .dataframe tbody tr th:only-of-type {\n",
       "        vertical-align: middle;\n",
       "    }\n",
       "\n",
       "    .dataframe tbody tr th {\n",
       "        vertical-align: top;\n",
       "    }\n",
       "\n",
       "    .dataframe thead th {\n",
       "        text-align: right;\n",
       "    }\n",
       "</style>\n",
       "<table border=\"1\" class=\"dataframe\">\n",
       "  <thead>\n",
       "    <tr style=\"text-align: right;\">\n",
       "      <th></th>\n",
       "      <th>0</th>\n",
       "      <th>1</th>\n",
       "      <th>2</th>\n",
       "      <th>3</th>\n",
       "      <th>4</th>\n",
       "      <th>5</th>\n",
       "      <th>6</th>\n",
       "      <th>7</th>\n",
       "      <th>8</th>\n",
       "      <th>9</th>\n",
       "      <th>...</th>\n",
       "      <th>2408</th>\n",
       "      <th>2409</th>\n",
       "      <th>2410</th>\n",
       "      <th>2411</th>\n",
       "      <th>2412</th>\n",
       "      <th>2413</th>\n",
       "      <th>2414</th>\n",
       "      <th>2415</th>\n",
       "      <th>2416</th>\n",
       "      <th>2417</th>\n",
       "    </tr>\n",
       "  </thead>\n",
       "  <tbody>\n",
       "    <tr>\n",
       "      <th>0</th>\n",
       "      <td>0.0000</td>\n",
       "      <td>11.3769</td>\n",
       "      <td>20.4557</td>\n",
       "      <td>38.1227</td>\n",
       "      <td>45.3810</td>\n",
       "      <td>54.9915</td>\n",
       "      <td>78.6108</td>\n",
       "      <td>118.6750</td>\n",
       "      <td>102.6639</td>\n",
       "      <td>113.4309</td>\n",
       "      <td>...</td>\n",
       "      <td>683.8771</td>\n",
       "      <td>687.6310</td>\n",
       "      <td>697.3246</td>\n",
       "      <td>669.3962</td>\n",
       "      <td>667.6788</td>\n",
       "      <td>665.5775</td>\n",
       "      <td>662.0291</td>\n",
       "      <td>665.9655</td>\n",
       "      <td>673.2073</td>\n",
       "      <td>681.4235</td>\n",
       "    </tr>\n",
       "    <tr>\n",
       "      <th>1</th>\n",
       "      <td>11.3769</td>\n",
       "      <td>0.0000</td>\n",
       "      <td>9.0788</td>\n",
       "      <td>28.9141</td>\n",
       "      <td>36.1724</td>\n",
       "      <td>45.7829</td>\n",
       "      <td>69.4022</td>\n",
       "      <td>78.2329</td>\n",
       "      <td>93.4553</td>\n",
       "      <td>111.1832</td>\n",
       "      <td>...</td>\n",
       "      <td>681.6295</td>\n",
       "      <td>685.3833</td>\n",
       "      <td>695.0769</td>\n",
       "      <td>667.1485</td>\n",
       "      <td>665.4311</td>\n",
       "      <td>663.3298</td>\n",
       "      <td>659.7815</td>\n",
       "      <td>663.7178</td>\n",
       "      <td>670.9596</td>\n",
       "      <td>679.1758</td>\n",
       "    </tr>\n",
       "    <tr>\n",
       "      <th>2</th>\n",
       "      <td>20.4557</td>\n",
       "      <td>9.0788</td>\n",
       "      <td>0.0000</td>\n",
       "      <td>22.3791</td>\n",
       "      <td>29.6374</td>\n",
       "      <td>39.2478</td>\n",
       "      <td>62.8671</td>\n",
       "      <td>71.6979</td>\n",
       "      <td>86.9203</td>\n",
       "      <td>111.7859</td>\n",
       "      <td>...</td>\n",
       "      <td>682.2323</td>\n",
       "      <td>685.9861</td>\n",
       "      <td>695.6796</td>\n",
       "      <td>667.7513</td>\n",
       "      <td>666.0339</td>\n",
       "      <td>663.9326</td>\n",
       "      <td>660.3843</td>\n",
       "      <td>664.3206</td>\n",
       "      <td>671.5623</td>\n",
       "      <td>679.7786</td>\n",
       "    </tr>\n",
       "    <tr>\n",
       "      <th>3</th>\n",
       "      <td>38.1227</td>\n",
       "      <td>28.9141</td>\n",
       "      <td>22.3791</td>\n",
       "      <td>0.0000</td>\n",
       "      <td>11.8343</td>\n",
       "      <td>23.5413</td>\n",
       "      <td>41.8396</td>\n",
       "      <td>50.6703</td>\n",
       "      <td>65.8927</td>\n",
       "      <td>82.5852</td>\n",
       "      <td>...</td>\n",
       "      <td>681.4226</td>\n",
       "      <td>685.1765</td>\n",
       "      <td>694.8701</td>\n",
       "      <td>666.9417</td>\n",
       "      <td>665.2243</td>\n",
       "      <td>663.1230</td>\n",
       "      <td>659.5746</td>\n",
       "      <td>663.5110</td>\n",
       "      <td>670.7528</td>\n",
       "      <td>678.9690</td>\n",
       "    </tr>\n",
       "    <tr>\n",
       "      <th>4</th>\n",
       "      <td>45.3810</td>\n",
       "      <td>36.1724</td>\n",
       "      <td>29.6374</td>\n",
       "      <td>11.8343</td>\n",
       "      <td>0.0000</td>\n",
       "      <td>11.7070</td>\n",
       "      <td>24.3986</td>\n",
       "      <td>33.2293</td>\n",
       "      <td>53.9901</td>\n",
       "      <td>65.1442</td>\n",
       "      <td>...</td>\n",
       "      <td>663.9816</td>\n",
       "      <td>667.7355</td>\n",
       "      <td>677.4291</td>\n",
       "      <td>649.5007</td>\n",
       "      <td>647.7833</td>\n",
       "      <td>645.6820</td>\n",
       "      <td>642.1336</td>\n",
       "      <td>646.0700</td>\n",
       "      <td>653.3118</td>\n",
       "      <td>661.5280</td>\n",
       "    </tr>\n",
       "  </tbody>\n",
       "</table>\n",
       "<p>5 rows × 2418 columns</p>\n",
       "</div>"
      ],
      "text/plain": [
       "         0        1        2        3        4        5        6         7  \\\n",
       "0   0.0000  11.3769  20.4557  38.1227  45.3810  54.9915  78.6108  118.6750   \n",
       "1  11.3769   0.0000   9.0788  28.9141  36.1724  45.7829  69.4022   78.2329   \n",
       "2  20.4557   9.0788   0.0000  22.3791  29.6374  39.2478  62.8671   71.6979   \n",
       "3  38.1227  28.9141  22.3791   0.0000  11.8343  23.5413  41.8396   50.6703   \n",
       "4  45.3810  36.1724  29.6374  11.8343   0.0000  11.7070  24.3986   33.2293   \n",
       "\n",
       "          8         9  ...      2408      2409      2410      2411      2412  \\\n",
       "0  102.6639  113.4309  ...  683.8771  687.6310  697.3246  669.3962  667.6788   \n",
       "1   93.4553  111.1832  ...  681.6295  685.3833  695.0769  667.1485  665.4311   \n",
       "2   86.9203  111.7859  ...  682.2323  685.9861  695.6796  667.7513  666.0339   \n",
       "3   65.8927   82.5852  ...  681.4226  685.1765  694.8701  666.9417  665.2243   \n",
       "4   53.9901   65.1442  ...  663.9816  667.7355  677.4291  649.5007  647.7833   \n",
       "\n",
       "       2413      2414      2415      2416      2417  \n",
       "0  665.5775  662.0291  665.9655  673.2073  681.4235  \n",
       "1  663.3298  659.7815  663.7178  670.9596  679.1758  \n",
       "2  663.9326  660.3843  664.3206  671.5623  679.7786  \n",
       "3  663.1230  659.5746  663.5110  670.7528  678.9690  \n",
       "4  645.6820  642.1336  646.0700  653.3118  661.5280  \n",
       "\n",
       "[5 rows x 2418 columns]"
      ]
     },
     "execution_count": 5,
     "metadata": {},
     "output_type": "execute_result"
    }
   ],
   "source": [
    "dist = dist.drop(columns='Unnamed: 0')\n",
    "dist.head()"
   ]
  },
  {
   "cell_type": "code",
   "execution_count": 6,
   "id": "fa5ee2ef",
   "metadata": {},
   "outputs": [],
   "source": [
    "distance_matrix = dist.values"
   ]
  },
  {
   "cell_type": "code",
   "execution_count": 7,
   "id": "7feb4020",
   "metadata": {},
   "outputs": [
    {
     "data": {
      "text/plain": [
       "(2418, 2418)"
      ]
     },
     "execution_count": 7,
     "metadata": {},
     "output_type": "execute_result"
    }
   ],
   "source": [
    "dist.values.shape"
   ]
  },
  {
   "cell_type": "code",
   "execution_count": 8,
   "id": "808dc7cf",
   "metadata": {
    "scrolled": true
   },
   "outputs": [
    {
     "name": "stdout",
     "output_type": "stream",
     "text": [
      "[9.57926289627, 33.575881824449986, 71.99842555560001, 94.52198760620004, 21.1168282795]\n"
     ]
    }
   ],
   "source": [
    "X = list(dataset['Predictions'])\n",
    "print(X[:5])"
   ]
  },
  {
   "cell_type": "code",
   "execution_count": 9,
   "id": "25590c76",
   "metadata": {},
   "outputs": [
    {
     "data": {
      "text/html": [
       "<div>\n",
       "<style scoped>\n",
       "    .dataframe tbody tr th:only-of-type {\n",
       "        vertical-align: middle;\n",
       "    }\n",
       "\n",
       "    .dataframe tbody tr th {\n",
       "        vertical-align: top;\n",
       "    }\n",
       "\n",
       "    .dataframe thead th {\n",
       "        text-align: right;\n",
       "    }\n",
       "</style>\n",
       "<table border=\"1\" class=\"dataframe\">\n",
       "  <thead>\n",
       "    <tr style=\"text-align: right;\">\n",
       "      <th></th>\n",
       "      <th>0</th>\n",
       "      <th>1</th>\n",
       "      <th>2</th>\n",
       "      <th>3</th>\n",
       "      <th>4</th>\n",
       "      <th>5</th>\n",
       "      <th>6</th>\n",
       "      <th>7</th>\n",
       "      <th>8</th>\n",
       "      <th>9</th>\n",
       "      <th>...</th>\n",
       "      <th>2408</th>\n",
       "      <th>2409</th>\n",
       "      <th>2410</th>\n",
       "      <th>2411</th>\n",
       "      <th>2412</th>\n",
       "      <th>2413</th>\n",
       "      <th>2414</th>\n",
       "      <th>2415</th>\n",
       "      <th>2416</th>\n",
       "      <th>2417</th>\n",
       "    </tr>\n",
       "  </thead>\n",
       "  <tbody>\n",
       "    <tr>\n",
       "      <th>0</th>\n",
       "      <td>0.0000</td>\n",
       "      <td>11.3769</td>\n",
       "      <td>20.4557</td>\n",
       "      <td>38.1227</td>\n",
       "      <td>45.3810</td>\n",
       "      <td>54.9915</td>\n",
       "      <td>78.6108</td>\n",
       "      <td>118.6750</td>\n",
       "      <td>102.6639</td>\n",
       "      <td>113.4309</td>\n",
       "      <td>...</td>\n",
       "      <td>683.8771</td>\n",
       "      <td>687.6310</td>\n",
       "      <td>697.3246</td>\n",
       "      <td>669.3962</td>\n",
       "      <td>667.6788</td>\n",
       "      <td>665.5775</td>\n",
       "      <td>662.0291</td>\n",
       "      <td>665.9655</td>\n",
       "      <td>673.2073</td>\n",
       "      <td>681.4235</td>\n",
       "    </tr>\n",
       "    <tr>\n",
       "      <th>1</th>\n",
       "      <td>11.3769</td>\n",
       "      <td>0.0000</td>\n",
       "      <td>9.0788</td>\n",
       "      <td>28.9141</td>\n",
       "      <td>36.1724</td>\n",
       "      <td>45.7829</td>\n",
       "      <td>69.4022</td>\n",
       "      <td>78.2329</td>\n",
       "      <td>93.4553</td>\n",
       "      <td>111.1832</td>\n",
       "      <td>...</td>\n",
       "      <td>681.6295</td>\n",
       "      <td>685.3833</td>\n",
       "      <td>695.0769</td>\n",
       "      <td>667.1485</td>\n",
       "      <td>665.4311</td>\n",
       "      <td>663.3298</td>\n",
       "      <td>659.7815</td>\n",
       "      <td>663.7178</td>\n",
       "      <td>670.9596</td>\n",
       "      <td>679.1758</td>\n",
       "    </tr>\n",
       "    <tr>\n",
       "      <th>2</th>\n",
       "      <td>20.4557</td>\n",
       "      <td>9.0788</td>\n",
       "      <td>0.0000</td>\n",
       "      <td>22.3791</td>\n",
       "      <td>29.6374</td>\n",
       "      <td>39.2478</td>\n",
       "      <td>62.8671</td>\n",
       "      <td>71.6979</td>\n",
       "      <td>86.9203</td>\n",
       "      <td>111.7859</td>\n",
       "      <td>...</td>\n",
       "      <td>682.2323</td>\n",
       "      <td>685.9861</td>\n",
       "      <td>695.6796</td>\n",
       "      <td>667.7513</td>\n",
       "      <td>666.0339</td>\n",
       "      <td>663.9326</td>\n",
       "      <td>660.3843</td>\n",
       "      <td>664.3206</td>\n",
       "      <td>671.5623</td>\n",
       "      <td>679.7786</td>\n",
       "    </tr>\n",
       "    <tr>\n",
       "      <th>3</th>\n",
       "      <td>38.1227</td>\n",
       "      <td>28.9141</td>\n",
       "      <td>22.3791</td>\n",
       "      <td>0.0000</td>\n",
       "      <td>11.8343</td>\n",
       "      <td>23.5413</td>\n",
       "      <td>41.8396</td>\n",
       "      <td>50.6703</td>\n",
       "      <td>65.8927</td>\n",
       "      <td>82.5852</td>\n",
       "      <td>...</td>\n",
       "      <td>681.4226</td>\n",
       "      <td>685.1765</td>\n",
       "      <td>694.8701</td>\n",
       "      <td>666.9417</td>\n",
       "      <td>665.2243</td>\n",
       "      <td>663.1230</td>\n",
       "      <td>659.5746</td>\n",
       "      <td>663.5110</td>\n",
       "      <td>670.7528</td>\n",
       "      <td>678.9690</td>\n",
       "    </tr>\n",
       "    <tr>\n",
       "      <th>4</th>\n",
       "      <td>45.3810</td>\n",
       "      <td>36.1724</td>\n",
       "      <td>29.6374</td>\n",
       "      <td>11.8343</td>\n",
       "      <td>0.0000</td>\n",
       "      <td>11.7070</td>\n",
       "      <td>24.3986</td>\n",
       "      <td>33.2293</td>\n",
       "      <td>53.9901</td>\n",
       "      <td>65.1442</td>\n",
       "      <td>...</td>\n",
       "      <td>663.9816</td>\n",
       "      <td>667.7355</td>\n",
       "      <td>677.4291</td>\n",
       "      <td>649.5007</td>\n",
       "      <td>647.7833</td>\n",
       "      <td>645.6820</td>\n",
       "      <td>642.1336</td>\n",
       "      <td>646.0700</td>\n",
       "      <td>653.3118</td>\n",
       "      <td>661.5280</td>\n",
       "    </tr>\n",
       "  </tbody>\n",
       "</table>\n",
       "<p>5 rows × 2418 columns</p>\n",
       "</div>"
      ],
      "text/plain": [
       "         0        1        2        3        4        5        6         7  \\\n",
       "0   0.0000  11.3769  20.4557  38.1227  45.3810  54.9915  78.6108  118.6750   \n",
       "1  11.3769   0.0000   9.0788  28.9141  36.1724  45.7829  69.4022   78.2329   \n",
       "2  20.4557   9.0788   0.0000  22.3791  29.6374  39.2478  62.8671   71.6979   \n",
       "3  38.1227  28.9141  22.3791   0.0000  11.8343  23.5413  41.8396   50.6703   \n",
       "4  45.3810  36.1724  29.6374  11.8343   0.0000  11.7070  24.3986   33.2293   \n",
       "\n",
       "          8         9  ...      2408      2409      2410      2411      2412  \\\n",
       "0  102.6639  113.4309  ...  683.8771  687.6310  697.3246  669.3962  667.6788   \n",
       "1   93.4553  111.1832  ...  681.6295  685.3833  695.0769  667.1485  665.4311   \n",
       "2   86.9203  111.7859  ...  682.2323  685.9861  695.6796  667.7513  666.0339   \n",
       "3   65.8927   82.5852  ...  681.4226  685.1765  694.8701  666.9417  665.2243   \n",
       "4   53.9901   65.1442  ...  663.9816  667.7355  677.4291  649.5007  647.7833   \n",
       "\n",
       "       2413      2414      2415      2416      2417  \n",
       "0  665.5775  662.0291  665.9655  673.2073  681.4235  \n",
       "1  663.3298  659.7815  663.7178  670.9596  679.1758  \n",
       "2  663.9326  660.3843  664.3206  671.5623  679.7786  \n",
       "3  663.1230  659.5746  663.5110  670.7528  678.9690  \n",
       "4  645.6820  642.1336  646.0700  653.3118  661.5280  \n",
       "\n",
       "[5 rows x 2418 columns]"
      ]
     },
     "execution_count": 9,
     "metadata": {},
     "output_type": "execute_result"
    }
   ],
   "source": [
    "dist.head()"
   ]
  },
  {
   "cell_type": "code",
   "execution_count": 10,
   "id": "7c72292e",
   "metadata": {},
   "outputs": [],
   "source": [
    "arr = [i[0] for i in dataset.values]"
   ]
  },
  {
   "cell_type": "code",
   "execution_count": 11,
   "id": "6d8ed90a",
   "metadata": {},
   "outputs": [],
   "source": [
    "totalArray = []\n",
    "totArray = []\n",
    "similarity_array = []\n",
    "arr = [i[0] for i in dataset.values]\n",
    "\n",
    "for index in range(2418):\n",
    "    total,ind = 0,0\n",
    "    distArr = [dist.values[index][i] for i in range(len(dist.values[index]))]\n",
    "    distArr1 = [dist.values[index][i] for i in range(len(dist.values[index]))]\n",
    "    \n",
    "    distDict = {distArr[i]:i for i in range(len(distArr))}\n",
    "    distArr.sort()\n",
    "    \n",
    "    d_arr = []\n",
    "    tot = 0\n",
    "    while total < 20000:\n",
    "        d_arr.append(distDict[distArr[ind]])\n",
    "        total += arr[distDict[distArr[ind]]]\n",
    "        tot += distArr[ind]\n",
    "        ind +=1\n",
    "    similarity_array.append(d_arr)\n",
    "    totalArray.append(total)\n",
    "    totArray.append(tot)"
   ]
  },
  {
   "cell_type": "code",
   "execution_count": 12,
   "id": "24766ddb",
   "metadata": {},
   "outputs": [
    {
     "name": "stdout",
     "output_type": "stream",
     "text": [
      "179\n"
     ]
    }
   ],
   "source": [
    "print(len(similarity_array[0]))"
   ]
  },
  {
   "cell_type": "code",
   "execution_count": 13,
   "id": "661a7425",
   "metadata": {},
   "outputs": [],
   "source": [
    "def similar_array(arr1, arr2):\n",
    "    count = 0\n",
    "    for i in arr1:\n",
    "        if i in arr2:\n",
    "            count += 1\n",
    "    if count > 0:\n",
    "        return [count/len(arr1), count/len(arr2)]\n",
    "    return -1"
   ]
  },
  {
   "cell_type": "raw",
   "id": "8495aba2",
   "metadata": {},
   "source": [
    "optimize = []\n",
    "for i in range(len(similarity_array)):\n",
    "    \n",
    "    optimize.append([])\n",
    "    for index in range(len(similarity_array)):\n",
    "        optimize[i].append(similar_array(similarity_array[i], similarity_array[index]))\n",
    "    \n",
    "    if i%5 == 0:\n",
    "        print(f\"Processing ... {(i/len(similarity_array))*100}\")"
   ]
  },
  {
   "cell_type": "raw",
   "id": "a2998beb",
   "metadata": {},
   "source": [
    "df = pd.DataFrame(optimize)\n",
    "df.to_csv('optimized_points.csv', index=False)\n",
    "df.head()"
   ]
  },
  {
   "cell_type": "code",
   "execution_count": 15,
   "id": "5d180e93",
   "metadata": {},
   "outputs": [],
   "source": [
    "op1 = [list(i) for i in optDist.values]"
   ]
  },
  {
   "cell_type": "code",
   "execution_count": 18,
   "id": "a7bf81fb",
   "metadata": {},
   "outputs": [],
   "source": [
    "def check_sum(array):\n",
    "    summ = 0\n",
    "    for i in array:\n",
    "        summ += arr[i]\n",
    "    return summ"
   ]
  },
  {
   "cell_type": "code",
   "execution_count": 155,
   "id": "3c38e3f6",
   "metadata": {
    "scrolled": true
   },
   "outputs": [
    {
     "name": "stdout",
     "output_type": "stream",
     "text": [
      "Counter: 5847112 iterations.... No:0\n",
      "12.100961657909975% booty collected\n",
      "1 god found 437 Summation 19863.369928818614\n",
      "23.463689981497758% booty collected\n",
      "2 god found 985 Summation 19974.605995271333\n",
      "13.669497839536445% booty collected\n",
      "3 god found 1039 Summation 5882.544762527401\n",
      "14.776915123442985% booty collected\n",
      "4 god found 1091 Summation 3703.990843842399\n",
      "16.210301019729965% booty collected\n",
      "5 god found 1094 Summation 4794.261668745898\n",
      "18.02625760999847% booty collected\n",
      "6 god found 1120 Summation 6073.850102322839\n",
      "19.073551356825693% booty collected\n",
      "7 god found 1203 Summation 3502.8949840634987\n",
      "20.839020389860796% booty collected\n",
      "8 god found 1231 Summation 5904.98381096352\n",
      "21.928137636489147% booty collected\n",
      "9 god found 1356 Summation 3642.782506655128\n",
      "43.81197987176397% booty collected\n",
      "10 god found 1358 Summation 19808.648314972907\n",
      "29.516943450412768% booty collected\n",
      "11 god found 1484 Summation 5573.714466393399\n",
      "30.773001224230452% booty collected\n",
      "12 god found 1545 Summation 4201.150335261001\n",
      "31.838616476098725% booty collected\n",
      "13 god found 1605 Summation 3564.1751247147718\n",
      "47.79201869795479% booty collected\n",
      "14 god found 1811 Summation 19801.722637200066\n",
      "39.644019608976485% booty collected\n",
      "15 god found 1861 Summation 6305.095593675559\n",
      "45.82050259012209% booty collected\n",
      "16 god found 385 Summation 19993.950009634365\n",
      "Counter: 11697968 iterations.... No:16\n",
      "45.621800534391326% booty collected\n",
      "16 god found 437 Summation 19863.369928818614\n",
      "57.15492098368766% booty collected\n",
      "17 god found 984 Summation 19887.27687245911\n",
      "51.567688379931866% booty collected\n",
      "17 god found 985 Summation 19974.605995271333\n",
      "51.567688379931866% booty collected\n",
      "17 god found 1039 Summation 5882.544762527401\n",
      "51.567688379931866% booty collected\n",
      "17 god found 1091 Summation 3703.990843842399\n",
      "51.567688379931866% booty collected\n",
      "17 god found 1094 Summation 4794.261668745898\n",
      "51.567688379931866% booty collected\n",
      "17 god found 1120 Summation 6073.850102322839\n",
      "51.567688379931866% booty collected\n",
      "17 god found 1203 Summation 3502.8949840634987\n",
      "51.567688379931866% booty collected\n",
      "17 god found 1231 Summation 5904.98381096352\n",
      "51.567688379931866% booty collected\n",
      "17 god found 1356 Summation 3642.782506655128\n",
      "51.567688379931866% booty collected\n",
      "17 god found 1358 Summation 19808.648314972907\n",
      "68.00280615045641% booty collected\n",
      "18 god found 1359 Summation 19855.53608985597\n",
      "57.50408638255936% booty collected\n",
      "18 god found 1484 Summation 5573.714466393399\n",
      "57.50408638255936% booty collected\n",
      "18 god found 1545 Summation 4201.150335261001\n",
      "57.50408638255936% booty collected\n",
      "18 god found 1605 Summation 3564.1751247147718\n",
      "67.47079858659625% booty collected\n",
      "19 god found 1757 Summation 19867.875209410915\n",
      "63.44417352882663% booty collected\n",
      "19 god found 1811 Summation 19801.722637200066\n",
      "63.44417352882663% booty collected\n",
      "19 god found 1861 Summation 6305.095593675559\n",
      "63.44417352882663% booty collected\n",
      "19 god found 385 Summation 19993.950009634365\n",
      "Counter: 17549124 iterations.... No:19\n",
      "63.44417352882663% booty collected\n",
      "19 god found 437 Summation 19863.369928818614\n",
      "63.44417352882663% booty collected\n",
      "19 god found 984 Summation 19887.27687245911\n",
      "63.44417352882663% booty collected\n",
      "19 god found 985 Summation 19974.605995271333\n",
      "68.92357285237182% booty collected\n",
      "20 god found 1038 Summation 18327.00755091383\n",
      "68.92357285237182% booty collected\n",
      "20 god found 1039 Summation 5882.544762527401\n",
      "68.92357285237182% booty collected\n",
      "20 god found 1091 Summation 3703.990843842399\n",
      "68.92357285237182% booty collected\n",
      "20 god found 1094 Summation 4794.261668745898\n",
      "68.92357285237182% booty collected\n",
      "20 god found 1120 Summation 6073.850102322839\n",
      "68.92357285237182% booty collected\n",
      "20 god found 1203 Summation 3502.8949840634987\n",
      "68.92357285237182% booty collected\n",
      "20 god found 1231 Summation 5904.98381096352\n",
      "68.92357285237182% booty collected\n",
      "20 god found 1356 Summation 3642.782506655128\n",
      "68.92357285237182% booty collected\n",
      "20 god found 1358 Summation 19808.648314972907\n",
      "68.92357285237182% booty collected\n",
      "20 god found 1359 Summation 19855.53608985597\n",
      "80.16920697515503% booty collected\n",
      "21 god found 1424 Summation 19990.22468123671\n",
      "74.90023998101186% booty collected\n",
      "21 god found 1484 Summation 5573.714466393399\n",
      "74.90023998101186% booty collected\n",
      "21 god found 1545 Summation 4201.150335261001\n",
      "74.90023998101186% booty collected\n",
      "21 god found 1605 Summation 3564.1751247147718\n",
      "74.90023998101186% booty collected\n",
      "21 god found 1757 Summation 19867.875209410915\n",
      "79.6728924407293% booty collected\n",
      "22 god found 1810 Summation 15963.14349481224\n",
      "79.6728924407293% booty collected\n",
      "22 god found 1811 Summation 19801.722637200066\n",
      "79.6728924407293% booty collected\n",
      "22 god found 1861 Summation 6305.095593675559\n",
      "79.6728924407293% booty collected\n",
      "22 god found 385 Summation 19993.950009634365\n",
      "Counter: 23400561 iterations.... No:22\n",
      "79.6728924407293% booty collected\n",
      "22 god found 437 Summation 19863.369928818614\n",
      "79.6728924407293% booty collected\n",
      "22 god found 984 Summation 19887.27687245911\n",
      "79.6728924407293% booty collected\n",
      "22 god found 985 Summation 19974.605995271333\n",
      "79.6728924407293% booty collected\n",
      "22 god found 1038 Summation 18327.00755091383\n",
      "79.6728924407293% booty collected\n",
      "22 god found 1039 Summation 5882.544762527401\n",
      "79.6728924407293% booty collected\n",
      "22 god found 1091 Summation 3703.990843842399\n",
      "79.6728924407293% booty collected\n",
      "22 god found 1094 Summation 4794.261668745898\n",
      "79.6728924407293% booty collected\n",
      "22 god found 1120 Summation 6073.850102322839\n",
      "79.6728924407293% booty collected\n",
      "22 god found 1203 Summation 3502.8949840634987\n",
      "79.6728924407293% booty collected\n",
      "22 god found 1231 Summation 5904.98381096352\n",
      "79.6728924407293% booty collected\n",
      "22 god found 1356 Summation 3642.782506655128\n",
      "79.6728924407293% booty collected\n",
      "22 god found 1358 Summation 19808.648314972907\n",
      "79.6728924407293% booty collected\n",
      "22 god found 1359 Summation 19855.53608985597\n",
      "79.6728924407293% booty collected\n",
      "22 god found 1424 Summation 19990.22468123671\n",
      "85.31067877440172% booty collected\n",
      "23 god found 1425 Summation 18856.766336351382\n",
      "85.31067877440172% booty collected\n",
      "23 god found 1484 Summation 5573.714466393399\n",
      "85.31067877440172% booty collected\n",
      "23 god found 1545 Summation 4201.150335261001\n",
      "85.31067877440172% booty collected\n",
      "23 god found 1605 Summation 3564.1751247147718\n",
      "85.31067877440172% booty collected\n",
      "23 god found 1757 Summation 19867.875209410915\n",
      "85.31067877440172% booty collected\n",
      "23 god found 1810 Summation 15963.14349481224\n",
      "85.31067877440172% booty collected\n",
      "23 god found 1811 Summation 19801.722637200066\n",
      "85.31067877440172% booty collected\n",
      "23 god found 1861 Summation 6305.095593675559\n",
      "85.31067877440172% booty collected\n",
      "23 god found 385 Summation 19993.950009634365\n",
      "Counter: 29252123 iterations.... No:23\n",
      "85.31067877440172% booty collected\n",
      "23 god found 437 Summation 19863.369928818614\n",
      "85.31067877440172% booty collected\n",
      "23 god found 984 Summation 19887.27687245911\n",
      "85.31067877440172% booty collected\n",
      "23 god found 985 Summation 19974.605995271333\n",
      "85.31067877440172% booty collected\n",
      "23 god found 1038 Summation 18327.00755091383\n",
      "85.31067877440172% booty collected\n",
      "23 god found 1039 Summation 5882.544762527401\n",
      "85.31067877440172% booty collected\n",
      "23 god found 1091 Summation 3703.990843842399\n",
      "85.31067877440172% booty collected\n",
      "23 god found 1094 Summation 4794.261668745898\n",
      "85.31067877440172% booty collected\n",
      "23 god found 1120 Summation 6073.850102322839\n",
      "85.31067877440172% booty collected\n",
      "23 god found 1203 Summation 3502.8949840634987\n",
      "85.31067877440172% booty collected\n",
      "23 god found 1231 Summation 5904.98381096352\n",
      "85.31067877440172% booty collected\n",
      "23 god found 1356 Summation 3642.782506655128\n",
      "85.31067877440172% booty collected\n",
      "23 god found 1358 Summation 19808.648314972907\n",
      "85.31067877440172% booty collected\n",
      "23 god found 1359 Summation 19855.53608985597\n",
      "85.31067877440172% booty collected\n",
      "23 god found 1424 Summation 19990.22468123671\n",
      "85.31067877440172% booty collected\n",
      "23 god found 1425 Summation 18856.766336351382\n",
      "85.31067877440172% booty collected\n",
      "23 god found 1484 Summation 5573.714466393399\n",
      "85.31067877440172% booty collected\n",
      "23 god found 1545 Summation 4201.150335261001\n",
      "85.31067877440172% booty collected\n",
      "23 god found 1605 Summation 3564.1751247147718\n",
      "85.31067877440172% booty collected\n",
      "23 god found 1757 Summation 19867.875209410915\n",
      "85.31067877440172% booty collected\n",
      "23 god found 1810 Summation 15963.14349481224\n"
     ]
    },
    {
     "name": "stdout",
     "output_type": "stream",
     "text": [
      "85.31067877440172% booty collected\n",
      "23 god found 1811 Summation 19801.722637200066\n",
      "85.31067877440172% booty collected\n",
      "23 god found 1861 Summation 6305.095593675559\n",
      "85.31067877440172% booty collected\n",
      "23 god found 385 Summation 19993.950009634365\n",
      "Counter: 35103692 iterations.... No:23\n",
      "85.31067877440172% booty collected\n",
      "23 god found 437 Summation 19863.369928818614\n",
      "86.46649638173027% booty collected\n",
      "24 god found 983 Summation 3865.875941176\n",
      "86.46649638173027% booty collected\n",
      "24 god found 984 Summation 19887.27687245911\n",
      "86.46649638173027% booty collected\n",
      "24 god found 985 Summation 19974.605995271333\n",
      "86.46649638173027% booty collected\n",
      "24 god found 1038 Summation 18327.00755091383\n",
      "86.46649638173027% booty collected\n",
      "24 god found 1039 Summation 5882.544762527401\n",
      "86.46649638173027% booty collected\n",
      "24 god found 1091 Summation 3703.990843842399\n",
      "86.46649638173027% booty collected\n",
      "24 god found 1094 Summation 4794.261668745898\n",
      "86.46649638173027% booty collected\n",
      "24 god found 1120 Summation 6073.850102322839\n",
      "86.46649638173027% booty collected\n",
      "24 god found 1203 Summation 3502.8949840634987\n",
      "86.46649638173027% booty collected\n",
      "24 god found 1231 Summation 5904.98381096352\n",
      "86.46649638173027% booty collected\n",
      "24 god found 1356 Summation 3642.782506655128\n",
      "86.46649638173027% booty collected\n",
      "24 god found 1358 Summation 19808.648314972907\n",
      "86.46649638173027% booty collected\n",
      "24 god found 1359 Summation 19855.53608985597\n",
      "86.46649638173027% booty collected\n",
      "24 god found 1424 Summation 19990.22468123671\n",
      "86.46649638173027% booty collected\n",
      "24 god found 1425 Summation 18856.766336351382\n",
      "86.46649638173027% booty collected\n",
      "24 god found 1484 Summation 5573.714466393399\n",
      "86.46649638173027% booty collected\n",
      "24 god found 1545 Summation 4201.150335261001\n",
      "86.46649638173027% booty collected\n",
      "24 god found 1605 Summation 3564.1751247147718\n",
      "86.46649638173027% booty collected\n",
      "24 god found 1757 Summation 19867.875209410915\n",
      "86.46649638173027% booty collected\n",
      "24 god found 1810 Summation 15963.14349481224\n",
      "86.46649638173027% booty collected\n",
      "24 god found 1811 Summation 19801.722637200066\n",
      "86.46649638173027% booty collected\n",
      "24 god found 1861 Summation 6305.095593675559\n",
      "86.46649638173027% booty collected\n",
      "24 god found 385 Summation 19993.950009634365\n",
      "Counter: 40955268 iterations.... No:24\n",
      "86.46649638173027% booty collected\n",
      "24 god found 437 Summation 19863.369928818614\n",
      "86.46649638173027% booty collected\n",
      "24 god found 983 Summation 3865.875941176\n",
      "86.46649638173027% booty collected\n",
      "24 god found 984 Summation 19887.27687245911\n",
      "86.46649638173027% booty collected\n",
      "24 god found 985 Summation 19974.605995271333\n",
      "86.46649638173027% booty collected\n",
      "24 god found 1038 Summation 18327.00755091383\n",
      "86.46649638173027% booty collected\n",
      "24 god found 1039 Summation 5882.544762527401\n",
      "87.84794934513927% booty collected\n",
      "25 god found 1040 Summation 4620.561013474099\n",
      "87.84794934513927% booty collected\n",
      "25 god found 1091 Summation 3703.990843842399\n",
      "87.84794934513927% booty collected\n",
      "25 god found 1094 Summation 4794.261668745898\n",
      "87.84794934513927% booty collected\n",
      "25 god found 1120 Summation 6073.850102322839\n",
      "87.84794934513927% booty collected\n",
      "25 god found 1203 Summation 3502.8949840634987\n",
      "87.84794934513927% booty collected\n",
      "25 god found 1231 Summation 5904.98381096352\n",
      "87.84794934513927% booty collected\n",
      "25 god found 1356 Summation 3642.782506655128\n",
      "87.84794934513927% booty collected\n",
      "25 god found 1358 Summation 19808.648314972907\n",
      "87.84794934513927% booty collected\n",
      "25 god found 1359 Summation 19855.53608985597\n",
      "88.9332688834928% booty collected\n",
      "26 god found 1423 Summation 3630.0802697640015\n",
      "88.9332688834928% booty collected\n",
      "26 god found 1424 Summation 19990.22468123671\n",
      "88.9332688834928% booty collected\n",
      "26 god found 1425 Summation 18856.766336351382\n",
      "88.9332688834928% booty collected\n",
      "26 god found 1484 Summation 5573.714466393399\n",
      "88.9332688834928% booty collected\n",
      "26 god found 1545 Summation 4201.150335261001\n",
      "88.9332688834928% booty collected\n",
      "26 god found 1605 Summation 3564.1751247147718\n",
      "88.9332688834928% booty collected\n",
      "26 god found 1757 Summation 19867.875209410915\n",
      "88.9332688834928% booty collected\n",
      "26 god found 1810 Summation 15963.14349481224\n",
      "88.9332688834928% booty collected\n",
      "26 god found 1811 Summation 19801.722637200066\n",
      "88.9332688834928% booty collected\n",
      "26 god found 1861 Summation 6305.095593675559\n"
     ]
    }
   ],
   "source": [
    "array = []\n",
    "apple = [[] for i in range(2418)]\n",
    "oranges = [0 for i in range(2418)]\n",
    "setr = set()\n",
    "gods = set()\n",
    "test_gods = set()\n",
    "devils = set()\n",
    "counter, score = 0,0\n",
    "cv = 0\n",
    "optimized = 0\n",
    "prev = -1\n",
    "run = True\n",
    "\n",
    "while run:\n",
    "    for x in range(len(op1)):\n",
    "\n",
    "        minIndex = -1\n",
    "        minVal = totArray[x]\n",
    "        for index, value in enumerate(op1[x]):\n",
    "            counter += 1\n",
    "            if value >= 0.005:\n",
    "                if totArray[index] < minVal and index not in gods:\n",
    "                    minVal = totArray[index]\n",
    "                    minIndex = index\n",
    "        if minIndex != -1:\n",
    "            if x not in devils:\n",
    "                apple[minIndex].append(x)\n",
    "                array.append(minIndex)\n",
    "                setr.add(minIndex)\n",
    "\n",
    "    for index, apples in enumerate(apple):\n",
    "        counter += 1\n",
    "        if apples != []:\n",
    "            distArr = [dist.values[index][i] for i in range(len(dist.values[index]))]\n",
    "            distArr1 = [dist.values[index][i] for i in range(len(dist.values[index]))]\n",
    "            optimaL = []\n",
    "            total = 0\n",
    "\n",
    "            distDict = {distArr[i]:i for i in range(len(distArr))}\n",
    "\n",
    "            distArr.sort()\n",
    "\n",
    "            ind = 0\n",
    "            while check_sum(optimaL) < 20000 and ind <= len(apple[index])-1:\n",
    "                if check_sum(optimaL)+arr[apples[ind]] <20000:\n",
    "                    counter += 1\n",
    "                    total += distArr1[distDict[distArr[ind]]]\n",
    "                    devils.add(apple[index][ind])\n",
    "\n",
    "                    optimaL.append(apple[index][ind])\n",
    "                    ind += 1\n",
    "\n",
    "                    aa = 0\n",
    "                    test_gods.add(index)\n",
    "                    for i in test_gods:\n",
    "                        aa += check_sum(apple[i])\n",
    "                    if aa < score:\n",
    "                        test_gods.remove(index)\n",
    "                    else:\n",
    "                        score = aa\n",
    "\n",
    "                    if check_sum(optimaL) > 19800 or (ind > len(apple[index])-1 and check_sum(optimaL)>3500) and score > aa:\n",
    "                        gods.add(index)\n",
    "                        if index in devils:\n",
    "                            devils.remove(index)\n",
    "                        aa = 0\n",
    "                        for i in gods:\n",
    "                            aa += check_sum(apple[i])\n",
    "                        print(f\"{aa/sum(arr)*100}% booty collected\")\n",
    "                        if prev == aa/sum(arr)*100:\n",
    "                            optimized += 1\n",
    "                        prev = aa/sum(arr)*100\n",
    "\n",
    "\n",
    "                        print(f\"{len(gods)} god found {index} Summation {check_sum(optimaL)}\")\n",
    "                        apple[index] = optimaL\n",
    "                        break\n",
    "                else:\n",
    "                    ind+=1\n",
    "                \n",
    "            if counter >= 5000:\n",
    "                \n",
    "                cv += counter\n",
    "                counter = 0\n",
    "                print(f\"Counter: {cv} iterations.... No:{len(gods)}\")\n",
    "        if optimized >= 100:\n",
    "            run = False"
   ]
  },
  {
   "cell_type": "code",
   "execution_count": 157,
   "id": "6d79f390",
   "metadata": {},
   "outputs": [],
   "source": [
    "minm = float('inf')\n",
    "best = -1\n",
    "for i in gods:\n",
    "    if check_sum(apple[i]) < minm:\n",
    "        minm = check_sum(apple[i])\n",
    "        best = i\n",
    "#     print(f\"Site Index: {i} ----- {check_sum(apple[i])}\")\n",
    "for each in apple[best]:\n",
    "    devils.remove(each)\n",
    "gods.remove(best)"
   ]
  },
  {
   "cell_type": "code",
   "execution_count": 158,
   "id": "0b6de3a7",
   "metadata": {},
   "outputs": [
    {
     "data": {
      "text/plain": [
       "189610.98156426134"
      ]
     },
     "execution_count": 158,
     "metadata": {},
     "output_type": "execute_result"
    }
   ],
   "source": [
    "cost_under = 0\n",
    "aa = 0\n",
    "for j,i in enumerate(gods):\n",
    "    aa += check_sum(apple[i])\n",
    "#     print(f\"Site Index: {i} ----- {check_sum(apple[i])}\")\n",
    "    cost_under += (20000 - check_sum(apple[i]))\n",
    "\n",
    "cost_under"
   ]
  },
  {
   "cell_type": "code",
   "execution_count": 175,
   "id": "d0a15431",
   "metadata": {},
   "outputs": [
    {
     "name": "stdout",
     "output_type": "stream",
     "text": [
      "68\n",
      "[1203, 1527, 1605, 1698, 1699, 1700, 1744, 1745, 1751, 1752, 1799, 1800, 1801, 1802, 1803, 1805, 1852, 1854, 2006, 2060, 2149, 2150, 2151, 2189, 2190, 2191, 2192, 2228, 2229, 2265, 2294, 2295, 2296, 2322, 2344, 2356, 2357, 2366, 2367, 2368, 2369, 2370, 2375, 2376, 2377, 2378, 2379, 2385, 2386, 2387, 2388, 2393, 2394, 2395, 2396, 2397, 2398, 2399, 2404, 2405, 2406, 2407, 2408, 2409, 2410, 2415, 2416, 2417]\n"
     ]
    }
   ],
   "source": [
    "k = 0\n",
    "dg = [i for i in range(2418)]\n",
    "keep = []\n",
    "for x in dg:\n",
    "    if x not in devils and x not in gods:\n",
    "        k+=1\n",
    "#         print(f\"Poor guys: {arr[x]}\")\n",
    "        keep.append(x)\n",
    "        \n",
    "print(len(keep))\n",
    "print(keep)"
   ]
  },
  {
   "cell_type": "code",
   "execution_count": 172,
   "id": "7e83c658",
   "metadata": {},
   "outputs": [
    {
     "data": {
      "text/plain": [
       "0.18705263745"
      ]
     },
     "execution_count": 172,
     "metadata": {},
     "output_type": "execute_result"
    }
   ],
   "source": [
    "arr[2417]"
   ]
  },
  {
   "cell_type": "code",
   "execution_count": 160,
   "id": "5860c010",
   "metadata": {},
   "outputs": [
    {
     "data": {
      "text/plain": [
       "2006"
      ]
     },
     "execution_count": 160,
     "metadata": {},
     "output_type": "execute_result"
    }
   ],
   "source": [
    "s=0\n",
    "for i in gods:\n",
    "    s += len(apple[i])\n",
    "s"
   ]
  },
  {
   "cell_type": "code",
   "execution_count": 137,
   "id": "4020fc87",
   "metadata": {},
   "outputs": [
    {
     "data": {
      "text/plain": [
       "19993.950009634365"
      ]
     },
     "execution_count": 137,
     "metadata": {},
     "output_type": "execute_result"
    }
   ],
   "source": [
    "check_sum(apple[385])"
   ]
  },
  {
   "cell_type": "code",
   "execution_count": 159,
   "id": "58040c11",
   "metadata": {
    "scrolled": true
   },
   "outputs": [
    {
     "name": "stdout",
     "output_type": "stream",
     "text": [
      "Site Index: 385 ----- 19993.950009634365\n",
      "Site Index: 1545 ----- 4201.150335261001\n",
      "Site Index: 1038 ----- 18327.00755091383\n",
      "Site Index: 1039 ----- 5882.544762527401\n",
      "Site Index: 1424 ----- 19990.22468123671\n",
      "Site Index: 1425 ----- 18856.766336351382\n",
      "Site Index: 1810 ----- 15963.14349481224\n",
      "Site Index: 1811 ----- 19801.722637200066\n",
      "Site Index: 1040 ----- 4620.561013474099\n",
      "Site Index: 1423 ----- 3630.0802697640015\n",
      "Site Index: 437 ----- 19863.369928818614\n",
      "Site Index: 1091 ----- 3703.990843842399\n",
      "Site Index: 1094 ----- 4794.261668745898\n",
      "Site Index: 1861 ----- 6305.095593675559\n",
      "Site Index: 1356 ----- 3642.782506655128\n",
      "Site Index: 1484 ----- 5573.714466393399\n",
      "Site Index: 1358 ----- 19808.648314972907\n",
      "Site Index: 1231 ----- 5904.98381096352\n",
      "Site Index: 1359 ----- 19855.53608985597\n",
      "Site Index: 983 ----- 3865.875941176\n",
      "Site Index: 984 ----- 19887.27687245911\n",
      "Site Index: 985 ----- 19974.605995271333\n",
      "Site Index: 1757 ----- 19867.875209410915\n",
      "Site Index: 1120 ----- 6073.850102322839\n"
     ]
    },
    {
     "data": {
      "text/plain": [
       "86.82035988479731"
      ]
     },
     "execution_count": 159,
     "metadata": {},
     "output_type": "execute_result"
    }
   ],
   "source": [
    "aa = 0\n",
    "for j,i in enumerate(gods):\n",
    "    aa += check_sum(apple[i])\n",
    "    print(f\"Site Index: {i} ----- {check_sum(apple[i])}\")\n",
    "aa/sum(arr)*100"
   ]
  },
  {
   "cell_type": "code",
   "execution_count": 141,
   "id": "5587db55",
   "metadata": {},
   "outputs": [
    {
     "name": "stdout",
     "output_type": "stream",
     "text": [
      "28\n"
     ]
    }
   ],
   "source": [
    "k = 0\n",
    "dg = [i for i in range(2418)]\n",
    "keep = []\n",
    "for x in dg:\n",
    "    if binSearch(list(devils), x) == -1:\n",
    "        k+=1\n",
    "        keep.append(x)\n",
    "print(len(keep))"
   ]
  },
  {
   "cell_type": "code",
   "execution_count": 133,
   "id": "831ecd4b",
   "metadata": {},
   "outputs": [
    {
     "data": {
      "text/plain": [
       "19993.950009634365"
      ]
     },
     "execution_count": 133,
     "metadata": {},
     "output_type": "execute_result"
    }
   ],
   "source": [
    "check_sum(apple[385])"
   ]
  },
  {
   "cell_type": "code",
   "execution_count": 142,
   "id": "2713b63a",
   "metadata": {},
   "outputs": [
    {
     "name": "stdout",
     "output_type": "stream",
     "text": [
      "26\n"
     ]
    }
   ],
   "source": [
    "print(len(gods))"
   ]
  },
  {
   "cell_type": "code",
   "execution_count": 389,
   "id": "291b33ca",
   "metadata": {},
   "outputs": [
    {
     "data": {
      "text/plain": [
       "19561.896892545614"
      ]
     },
     "execution_count": 389,
     "metadata": {},
     "output_type": "execute_result"
    }
   ],
   "source": [
    "distArr = [dist.values[437][i] for i in range(len(dist.values[437]))]\n",
    "distArr1 = [dist.values[437][i] for i in range(len(dist.values[437]))]\n",
    "optimaL = []\n",
    "total = 0\n",
    "    \n",
    "distDict = {distArr[i]:i for i in range(len(distArr))}\n",
    "\n",
    "distArr.sort()\n",
    "\n",
    "ind = 0\n",
    "while check_sum(optimaL)  < 19500:\n",
    "    total += distArr1[distDict[distArr[ind]]]\n",
    "    optimaL.append(apple[437][ind])\n",
    "    ind += 1\n",
    "ind\n",
    "\n",
    "optimaL.sort()\n",
    "\n",
    "check_sum(optimaL)"
   ]
  },
  {
   "cell_type": "code",
   "execution_count": 390,
   "id": "e7ea4fb7",
   "metadata": {},
   "outputs": [
    {
     "data": {
      "text/plain": [
       "110"
      ]
     },
     "execution_count": 390,
     "metadata": {},
     "output_type": "execute_result"
    }
   ],
   "source": [
    "len(apple[437]) - len(optimaL)"
   ]
  },
  {
   "cell_type": "code",
   "execution_count": 112,
   "id": "ebf5475c",
   "metadata": {},
   "outputs": [],
   "source": [
    "def binSearch(arr11, target):\n",
    "    left, right = 0, len(arr11)-1\n",
    "    f = -1\n",
    "    while left <= right:\n",
    "        mid = left + (right-left)//2\n",
    "        \n",
    "        if arr11[mid] == target:\n",
    "            f = mid\n",
    "            break\n",
    "        elif arr11[mid] > target:\n",
    "            right = mid-1\n",
    "        else:\n",
    "            left = mid +1\n",
    "    return f"
   ]
  },
  {
   "cell_type": "code",
   "execution_count": 384,
   "id": "7b512582",
   "metadata": {},
   "outputs": [
    {
     "data": {
      "text/plain": [
       "-1"
      ]
     },
     "execution_count": 384,
     "metadata": {},
     "output_type": "execute_result"
    }
   ],
   "source": [
    "binSearch(optimaL, 492)"
   ]
  },
  {
   "cell_type": "code",
   "execution_count": 506,
   "id": "da6e7bf2",
   "metadata": {},
   "outputs": [
    {
     "name": "stdout",
     "output_type": "stream",
     "text": [
      "0\n"
     ]
    }
   ],
   "source": [
    "k = 0\n",
    "\n",
    "for x in range(len(apple[1425])):\n",
    "    if binSearch(apple[1424], x) != -1:\n",
    "        k+=1\n",
    "print(k)"
   ]
  },
  {
   "cell_type": "code",
   "execution_count": 414,
   "id": "689971e0",
   "metadata": {
    "scrolled": true
   },
   "outputs": [
    {
     "name": "stdout",
     "output_type": "stream",
     "text": [
      "[(985, 490), (1358, 478), (437, 316), (1811, 292), (1039, 108), (1861, 102), (1545, 102), (1605, 100), (1484, 92), (1664, 90), (1120, 75), (1231, 74), (1356, 60), (1037, 54), (1091, 46), (1094, 42), (1292, 38), (1751, 38), (1359, 32), (1203, 32), (1063, 30), (1806, 30), (1424, 30), (1810, 26), (731, 24), (988, 24), (1036, 24), (863, 22), (861, 22), (1095, 20), (984, 20), (1146, 18), (1121, 17), (1042, 16), (1290, 16), (1092, 16), (1860, 16), (1718, 16), (799, 14), (864, 14), (1040, 12), (1426, 12), (1067, 11), (1066, 10), (1119, 10), (1176, 8), (926, 8), (1089, 8), (1148, 8), (1750, 8), (923, 6), (1118, 6), (1360, 6), (1147, 6), (796, 5), (1291, 4), (1090, 4), (1547, 4), (385, 2), (858, 2)] 3216\n"
     ]
    }
   ],
   "source": [
    "counts = Counter(array)\n",
    "s = 0\n",
    "for i in counts.most_common(60):\n",
    "    s += i[1]\n",
    "print(counts.most_common(60), s)"
   ]
  },
  {
   "cell_type": "code",
   "execution_count": 415,
   "id": "3f0d40bf",
   "metadata": {},
   "outputs": [],
   "source": [
    "def similar_array(arr1, arr2):\n",
    "    count = 0\n",
    "    for i in arr1:\n",
    "        if i in arr2:\n",
    "            count += 1\n",
    "    if count > 0:\n",
    "        return [count/len(arr1), count/len(arr2)]\n",
    "    return -1"
   ]
  },
  {
   "cell_type": "code",
   "execution_count": null,
   "id": "24f1da1c",
   "metadata": {},
   "outputs": [],
   "source": []
  }
 ],
 "metadata": {
  "kernelspec": {
   "display_name": "Python 3 (ipykernel)",
   "language": "python",
   "name": "python3"
  },
  "language_info": {
   "codemirror_mode": {
    "name": "ipython",
    "version": 3
   },
   "file_extension": ".py",
   "mimetype": "text/x-python",
   "name": "python",
   "nbconvert_exporter": "python",
   "pygments_lexer": "ipython3",
   "version": "3.9.13"
  }
 },
 "nbformat": 4,
 "nbformat_minor": 5
}
